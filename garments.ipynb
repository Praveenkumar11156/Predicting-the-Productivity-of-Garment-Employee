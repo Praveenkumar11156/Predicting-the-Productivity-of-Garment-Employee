{
 "cells": [
  {
   "attachments": {},
   "cell_type": "markdown",
   "metadata": {},
   "source": [
    "Import Packages"
   ]
  },
  {
   "cell_type": "code",
   "execution_count": 1,
   "metadata": {},
   "outputs": [],
   "source": [
    "import pandas as pd\n",
    "import numpy as np\n",
    "import matplotlib.pyplot as plt\n",
    "import seaborn as sns\n",
    "from turtle import title\n",
    "from sklearn.model_selection import train_test_split\n",
    "from sklearn.linear_model import LinearRegression\n",
    "from sklearn.metrics import accuracy_score,classification_report,confusion_matrix,mean_squared_error,r2_score\n",
    "from sklearn.model_selection import cross_val_score\n",
    "from sklearn.linear_model import RidgeCV\n",
    "from sklearn.ensemble import RandomForestRegressor"
   ]
  },
  {
   "cell_type": "code",
   "execution_count": 2,
   "metadata": {},
   "outputs": [
    {
     "data": {
      "text/html": [
       "<div>\n",
       "<style scoped>\n",
       "    .dataframe tbody tr th:only-of-type {\n",
       "        vertical-align: middle;\n",
       "    }\n",
       "\n",
       "    .dataframe tbody tr th {\n",
       "        vertical-align: top;\n",
       "    }\n",
       "\n",
       "    .dataframe thead th {\n",
       "        text-align: right;\n",
       "    }\n",
       "</style>\n",
       "<table border=\"1\" class=\"dataframe\">\n",
       "  <thead>\n",
       "    <tr style=\"text-align: right;\">\n",
       "      <th></th>\n",
       "      <th>date</th>\n",
       "      <th>quarter</th>\n",
       "      <th>department</th>\n",
       "      <th>day</th>\n",
       "      <th>team</th>\n",
       "      <th>targeted_productivity</th>\n",
       "      <th>smv</th>\n",
       "      <th>wip</th>\n",
       "      <th>over_time</th>\n",
       "      <th>incentive</th>\n",
       "      <th>idle_time</th>\n",
       "      <th>idle_men</th>\n",
       "      <th>no_of_style_change</th>\n",
       "      <th>no_of_workers</th>\n",
       "      <th>actual_productivity</th>\n",
       "    </tr>\n",
       "  </thead>\n",
       "  <tbody>\n",
       "    <tr>\n",
       "      <th>110</th>\n",
       "      <td>01-07-2015</td>\n",
       "      <td>Quarter1</td>\n",
       "      <td>finishing</td>\n",
       "      <td>Wednesday</td>\n",
       "      <td>4</td>\n",
       "      <td>0.8</td>\n",
       "      <td>3.94</td>\n",
       "      <td>NaN</td>\n",
       "      <td>4440</td>\n",
       "      <td>0</td>\n",
       "      <td>0.0</td>\n",
       "      <td>0</td>\n",
       "      <td>0</td>\n",
       "      <td>18.0</td>\n",
       "      <td>0.827187</td>\n",
       "    </tr>\n",
       "    <tr>\n",
       "      <th>256</th>\n",
       "      <td>1/14/2015</td>\n",
       "      <td>Quarter2</td>\n",
       "      <td>finishing</td>\n",
       "      <td>Wednesday</td>\n",
       "      <td>10</td>\n",
       "      <td>0.8</td>\n",
       "      <td>3.94</td>\n",
       "      <td>NaN</td>\n",
       "      <td>1260</td>\n",
       "      <td>0</td>\n",
       "      <td>0.0</td>\n",
       "      <td>0</td>\n",
       "      <td>0</td>\n",
       "      <td>8.0</td>\n",
       "      <td>0.332359</td>\n",
       "    </tr>\n",
       "    <tr>\n",
       "      <th>901</th>\n",
       "      <td>2/23/2015</td>\n",
       "      <td>Quarter4</td>\n",
       "      <td>finishing</td>\n",
       "      <td>Monday</td>\n",
       "      <td>2</td>\n",
       "      <td>0.8</td>\n",
       "      <td>5.13</td>\n",
       "      <td>NaN</td>\n",
       "      <td>960</td>\n",
       "      <td>0</td>\n",
       "      <td>0.0</td>\n",
       "      <td>0</td>\n",
       "      <td>0</td>\n",
       "      <td>8.0</td>\n",
       "      <td>0.368719</td>\n",
       "    </tr>\n",
       "    <tr>\n",
       "      <th>995</th>\n",
       "      <td>03-01-2015</td>\n",
       "      <td>Quarter1</td>\n",
       "      <td>sweing</td>\n",
       "      <td>Sunday</td>\n",
       "      <td>2</td>\n",
       "      <td>0.7</td>\n",
       "      <td>30.33</td>\n",
       "      <td>254.0</td>\n",
       "      <td>1800</td>\n",
       "      <td>0</td>\n",
       "      <td>0.0</td>\n",
       "      <td>0</td>\n",
       "      <td>0</td>\n",
       "      <td>58.0</td>\n",
       "      <td>0.683551</td>\n",
       "    </tr>\n",
       "    <tr>\n",
       "      <th>781</th>\n",
       "      <td>2/15/2015</td>\n",
       "      <td>Quarter3</td>\n",
       "      <td>sweing</td>\n",
       "      <td>Sunday</td>\n",
       "      <td>3</td>\n",
       "      <td>0.6</td>\n",
       "      <td>30.10</td>\n",
       "      <td>1361.0</td>\n",
       "      <td>6960</td>\n",
       "      <td>30</td>\n",
       "      <td>0.0</td>\n",
       "      <td>0</td>\n",
       "      <td>1</td>\n",
       "      <td>58.0</td>\n",
       "      <td>0.475718</td>\n",
       "    </tr>\n",
       "  </tbody>\n",
       "</table>\n",
       "</div>"
      ],
      "text/plain": [
       "           date   quarter  department        day  team  targeted_productivity  \\\n",
       "110  01-07-2015  Quarter1  finishing   Wednesday     4                    0.8   \n",
       "256   1/14/2015  Quarter2  finishing   Wednesday    10                    0.8   \n",
       "901   2/23/2015  Quarter4   finishing     Monday     2                    0.8   \n",
       "995  03-01-2015  Quarter1      sweing     Sunday     2                    0.7   \n",
       "781   2/15/2015  Quarter3      sweing     Sunday     3                    0.6   \n",
       "\n",
       "       smv     wip  over_time  incentive  idle_time  idle_men  \\\n",
       "110   3.94     NaN       4440          0        0.0         0   \n",
       "256   3.94     NaN       1260          0        0.0         0   \n",
       "901   5.13     NaN        960          0        0.0         0   \n",
       "995  30.33   254.0       1800          0        0.0         0   \n",
       "781  30.10  1361.0       6960         30        0.0         0   \n",
       "\n",
       "     no_of_style_change  no_of_workers  actual_productivity  \n",
       "110                   0           18.0             0.827187  \n",
       "256                   0            8.0             0.332359  \n",
       "901                   0            8.0             0.368719  \n",
       "995                   0           58.0             0.683551  \n",
       "781                   1           58.0             0.475718  "
      ]
     },
     "execution_count": 2,
     "metadata": {},
     "output_type": "execute_result"
    }
   ],
   "source": [
    "garment = pd.read_csv(\"./garments_worker_productivity.csv\")\n",
    "garment.sample(5)"
   ]
  },
  {
   "cell_type": "code",
   "execution_count": 3,
   "metadata": {},
   "outputs": [
    {
     "name": "stdout",
     "output_type": "stream",
     "text": [
      "Number of rows:  1197\n",
      "Number of columns:  15\n"
     ]
    }
   ],
   "source": [
    "print(\"Number of rows: \", garment.shape[0])\n",
    "print(\"Number of columns: \", garment.shape[1])"
   ]
  },
  {
   "cell_type": "code",
   "execution_count": 4,
   "metadata": {},
   "outputs": [
    {
     "data": {
      "text/html": [
       "<div>\n",
       "<style scoped>\n",
       "    .dataframe tbody tr th:only-of-type {\n",
       "        vertical-align: middle;\n",
       "    }\n",
       "\n",
       "    .dataframe tbody tr th {\n",
       "        vertical-align: top;\n",
       "    }\n",
       "\n",
       "    .dataframe thead th {\n",
       "        text-align: right;\n",
       "    }\n",
       "</style>\n",
       "<table border=\"1\" class=\"dataframe\">\n",
       "  <thead>\n",
       "    <tr style=\"text-align: right;\">\n",
       "      <th></th>\n",
       "      <th>count</th>\n",
       "      <th>mean</th>\n",
       "      <th>std</th>\n",
       "      <th>min</th>\n",
       "      <th>25%</th>\n",
       "      <th>50%</th>\n",
       "      <th>75%</th>\n",
       "      <th>max</th>\n",
       "    </tr>\n",
       "  </thead>\n",
       "  <tbody>\n",
       "    <tr>\n",
       "      <th>team</th>\n",
       "      <td>1197.0</td>\n",
       "      <td>6.426901</td>\n",
       "      <td>3.463963</td>\n",
       "      <td>1.000000</td>\n",
       "      <td>3.000000</td>\n",
       "      <td>6.000000</td>\n",
       "      <td>9.000000</td>\n",
       "      <td>12.000000</td>\n",
       "    </tr>\n",
       "    <tr>\n",
       "      <th>targeted_productivity</th>\n",
       "      <td>1197.0</td>\n",
       "      <td>0.729632</td>\n",
       "      <td>0.097891</td>\n",
       "      <td>0.070000</td>\n",
       "      <td>0.700000</td>\n",
       "      <td>0.750000</td>\n",
       "      <td>0.800000</td>\n",
       "      <td>0.800000</td>\n",
       "    </tr>\n",
       "    <tr>\n",
       "      <th>smv</th>\n",
       "      <td>1197.0</td>\n",
       "      <td>15.062172</td>\n",
       "      <td>10.943219</td>\n",
       "      <td>2.900000</td>\n",
       "      <td>3.940000</td>\n",
       "      <td>15.260000</td>\n",
       "      <td>24.260000</td>\n",
       "      <td>54.560000</td>\n",
       "    </tr>\n",
       "    <tr>\n",
       "      <th>wip</th>\n",
       "      <td>691.0</td>\n",
       "      <td>1190.465991</td>\n",
       "      <td>1837.455001</td>\n",
       "      <td>7.000000</td>\n",
       "      <td>774.500000</td>\n",
       "      <td>1039.000000</td>\n",
       "      <td>1252.500000</td>\n",
       "      <td>23122.000000</td>\n",
       "    </tr>\n",
       "    <tr>\n",
       "      <th>over_time</th>\n",
       "      <td>1197.0</td>\n",
       "      <td>4567.460317</td>\n",
       "      <td>3348.823563</td>\n",
       "      <td>0.000000</td>\n",
       "      <td>1440.000000</td>\n",
       "      <td>3960.000000</td>\n",
       "      <td>6960.000000</td>\n",
       "      <td>25920.000000</td>\n",
       "    </tr>\n",
       "    <tr>\n",
       "      <th>incentive</th>\n",
       "      <td>1197.0</td>\n",
       "      <td>38.210526</td>\n",
       "      <td>160.182643</td>\n",
       "      <td>0.000000</td>\n",
       "      <td>0.000000</td>\n",
       "      <td>0.000000</td>\n",
       "      <td>50.000000</td>\n",
       "      <td>3600.000000</td>\n",
       "    </tr>\n",
       "    <tr>\n",
       "      <th>idle_time</th>\n",
       "      <td>1197.0</td>\n",
       "      <td>0.730159</td>\n",
       "      <td>12.709757</td>\n",
       "      <td>0.000000</td>\n",
       "      <td>0.000000</td>\n",
       "      <td>0.000000</td>\n",
       "      <td>0.000000</td>\n",
       "      <td>300.000000</td>\n",
       "    </tr>\n",
       "    <tr>\n",
       "      <th>idle_men</th>\n",
       "      <td>1197.0</td>\n",
       "      <td>0.369256</td>\n",
       "      <td>3.268987</td>\n",
       "      <td>0.000000</td>\n",
       "      <td>0.000000</td>\n",
       "      <td>0.000000</td>\n",
       "      <td>0.000000</td>\n",
       "      <td>45.000000</td>\n",
       "    </tr>\n",
       "    <tr>\n",
       "      <th>no_of_style_change</th>\n",
       "      <td>1197.0</td>\n",
       "      <td>0.150376</td>\n",
       "      <td>0.427848</td>\n",
       "      <td>0.000000</td>\n",
       "      <td>0.000000</td>\n",
       "      <td>0.000000</td>\n",
       "      <td>0.000000</td>\n",
       "      <td>2.000000</td>\n",
       "    </tr>\n",
       "    <tr>\n",
       "      <th>no_of_workers</th>\n",
       "      <td>1197.0</td>\n",
       "      <td>34.609858</td>\n",
       "      <td>22.197687</td>\n",
       "      <td>2.000000</td>\n",
       "      <td>9.000000</td>\n",
       "      <td>34.000000</td>\n",
       "      <td>57.000000</td>\n",
       "      <td>89.000000</td>\n",
       "    </tr>\n",
       "    <tr>\n",
       "      <th>actual_productivity</th>\n",
       "      <td>1197.0</td>\n",
       "      <td>0.735091</td>\n",
       "      <td>0.174488</td>\n",
       "      <td>0.233705</td>\n",
       "      <td>0.650307</td>\n",
       "      <td>0.773333</td>\n",
       "      <td>0.850253</td>\n",
       "      <td>1.120437</td>\n",
       "    </tr>\n",
       "  </tbody>\n",
       "</table>\n",
       "</div>"
      ],
      "text/plain": [
       "                        count         mean          std       min  \\\n",
       "team                   1197.0     6.426901     3.463963  1.000000   \n",
       "targeted_productivity  1197.0     0.729632     0.097891  0.070000   \n",
       "smv                    1197.0    15.062172    10.943219  2.900000   \n",
       "wip                     691.0  1190.465991  1837.455001  7.000000   \n",
       "over_time              1197.0  4567.460317  3348.823563  0.000000   \n",
       "incentive              1197.0    38.210526   160.182643  0.000000   \n",
       "idle_time              1197.0     0.730159    12.709757  0.000000   \n",
       "idle_men               1197.0     0.369256     3.268987  0.000000   \n",
       "no_of_style_change     1197.0     0.150376     0.427848  0.000000   \n",
       "no_of_workers          1197.0    34.609858    22.197687  2.000000   \n",
       "actual_productivity    1197.0     0.735091     0.174488  0.233705   \n",
       "\n",
       "                               25%          50%          75%           max  \n",
       "team                      3.000000     6.000000     9.000000     12.000000  \n",
       "targeted_productivity     0.700000     0.750000     0.800000      0.800000  \n",
       "smv                       3.940000    15.260000    24.260000     54.560000  \n",
       "wip                     774.500000  1039.000000  1252.500000  23122.000000  \n",
       "over_time              1440.000000  3960.000000  6960.000000  25920.000000  \n",
       "incentive                 0.000000     0.000000    50.000000   3600.000000  \n",
       "idle_time                 0.000000     0.000000     0.000000    300.000000  \n",
       "idle_men                  0.000000     0.000000     0.000000     45.000000  \n",
       "no_of_style_change        0.000000     0.000000     0.000000      2.000000  \n",
       "no_of_workers             9.000000    34.000000    57.000000     89.000000  \n",
       "actual_productivity       0.650307     0.773333     0.850253      1.120437  "
      ]
     },
     "execution_count": 4,
     "metadata": {},
     "output_type": "execute_result"
    }
   ],
   "source": [
    "garment.describe().T"
   ]
  },
  {
   "attachments": {},
   "cell_type": "markdown",
   "metadata": {},
   "source": [
    "Handling Missing Values"
   ]
  },
  {
   "cell_type": "code",
   "execution_count": 5,
   "metadata": {},
   "outputs": [
    {
     "data": {
      "text/plain": [
       "date                       0\n",
       "quarter                    0\n",
       "department                 0\n",
       "day                        0\n",
       "team                       0\n",
       "targeted_productivity      0\n",
       "smv                        0\n",
       "wip                      506\n",
       "over_time                  0\n",
       "incentive                  0\n",
       "idle_time                  0\n",
       "idle_men                   0\n",
       "no_of_style_change         0\n",
       "no_of_workers              0\n",
       "actual_productivity        0\n",
       "dtype: int64"
      ]
     },
     "execution_count": 5,
     "metadata": {},
     "output_type": "execute_result"
    }
   ],
   "source": [
    "garment.isnull().sum()"
   ]
  },
  {
   "cell_type": "code",
   "execution_count": 6,
   "metadata": {},
   "outputs": [],
   "source": [
    "garment = garment.fillna({'wip':0,})"
   ]
  },
  {
   "attachments": {},
   "cell_type": "markdown",
   "metadata": {},
   "source": [
    "We can see that wip has a high proportion of NANs! Most other approaches I have seen use either mean imputation or imputation based on time series. However, we may be able to better represent the ground truth via imputation with 0's.\n",
    "\n",
    "Why do we want to impute with 0's? The column in question is called wip (work in progress). The number refers to the number of items currenty being worked on. If there is no entry in it, it may be that there are no items being worked on!"
   ]
  },
  {
   "cell_type": "code",
   "execution_count": 7,
   "metadata": {},
   "outputs": [
    {
     "data": {
      "text/plain": [
       "date                     0\n",
       "quarter                  0\n",
       "department               0\n",
       "day                      0\n",
       "team                     0\n",
       "targeted_productivity    0\n",
       "smv                      0\n",
       "wip                      0\n",
       "over_time                0\n",
       "incentive                0\n",
       "idle_time                0\n",
       "idle_men                 0\n",
       "no_of_style_change       0\n",
       "no_of_workers            0\n",
       "actual_productivity      0\n",
       "dtype: int64"
      ]
     },
     "execution_count": 7,
     "metadata": {},
     "output_type": "execute_result"
    }
   ],
   "source": [
    "garment.isna().sum()"
   ]
  },
  {
   "cell_type": "code",
   "execution_count": 8,
   "metadata": {},
   "outputs": [
    {
     "data": {
      "text/plain": [
       "array(['Thursday', 'Saturday', 'Sunday', 'Monday', 'Tuesday', 'Wednesday'],\n",
       "      dtype=object)"
      ]
     },
     "execution_count": 8,
     "metadata": {},
     "output_type": "execute_result"
    }
   ],
   "source": [
    "garment['day'].unique()"
   ]
  },
  {
   "cell_type": "code",
   "execution_count": 9,
   "metadata": {},
   "outputs": [
    {
     "data": {
      "text/plain": [
       "array(['sweing', 'finishing ', 'finishing'], dtype=object)"
      ]
     },
     "execution_count": 9,
     "metadata": {},
     "output_type": "execute_result"
    }
   ],
   "source": [
    "garment['department'].unique()"
   ]
  },
  {
   "cell_type": "code",
   "execution_count": 10,
   "metadata": {},
   "outputs": [
    {
     "data": {
      "text/plain": [
       "array(['Quarter1', 'Quarter2', 'Quarter3', 'Quarter4', 'Quarter5'],\n",
       "      dtype=object)"
      ]
     },
     "execution_count": 10,
     "metadata": {},
     "output_type": "execute_result"
    }
   ],
   "source": [
    "garment['quarter'].unique()"
   ]
  },
  {
   "cell_type": "code",
   "execution_count": 11,
   "metadata": {},
   "outputs": [
    {
     "data": {
      "text/html": [
       "<div>\n",
       "<style scoped>\n",
       "    .dataframe tbody tr th:only-of-type {\n",
       "        vertical-align: middle;\n",
       "    }\n",
       "\n",
       "    .dataframe tbody tr th {\n",
       "        vertical-align: top;\n",
       "    }\n",
       "\n",
       "    .dataframe thead th {\n",
       "        text-align: right;\n",
       "    }\n",
       "</style>\n",
       "<table border=\"1\" class=\"dataframe\">\n",
       "  <thead>\n",
       "    <tr style=\"text-align: right;\">\n",
       "      <th></th>\n",
       "      <th>date</th>\n",
       "      <th>quarter</th>\n",
       "      <th>department</th>\n",
       "      <th>day</th>\n",
       "      <th>team</th>\n",
       "      <th>targeted_productivity</th>\n",
       "      <th>smv</th>\n",
       "      <th>wip</th>\n",
       "      <th>over_time</th>\n",
       "      <th>incentive</th>\n",
       "      <th>idle_time</th>\n",
       "      <th>idle_men</th>\n",
       "      <th>no_of_style_change</th>\n",
       "      <th>no_of_workers</th>\n",
       "      <th>actual_productivity</th>\n",
       "    </tr>\n",
       "  </thead>\n",
       "  <tbody>\n",
       "    <tr>\n",
       "      <th>498</th>\n",
       "      <td>1/29/2015</td>\n",
       "      <td>Quarter5</td>\n",
       "      <td>sweing</td>\n",
       "      <td>Thursday</td>\n",
       "      <td>2</td>\n",
       "      <td>0.80</td>\n",
       "      <td>22.52</td>\n",
       "      <td>1416.0</td>\n",
       "      <td>6840</td>\n",
       "      <td>113</td>\n",
       "      <td>0.0</td>\n",
       "      <td>0</td>\n",
       "      <td>0</td>\n",
       "      <td>57.0</td>\n",
       "      <td>1.000230</td>\n",
       "    </tr>\n",
       "    <tr>\n",
       "      <th>499</th>\n",
       "      <td>1/29/2015</td>\n",
       "      <td>Quarter5</td>\n",
       "      <td>finishing</td>\n",
       "      <td>Thursday</td>\n",
       "      <td>4</td>\n",
       "      <td>0.80</td>\n",
       "      <td>4.30</td>\n",
       "      <td>0.0</td>\n",
       "      <td>1200</td>\n",
       "      <td>0</td>\n",
       "      <td>0.0</td>\n",
       "      <td>0</td>\n",
       "      <td>0</td>\n",
       "      <td>10.0</td>\n",
       "      <td>0.989000</td>\n",
       "    </tr>\n",
       "    <tr>\n",
       "      <th>500</th>\n",
       "      <td>1/29/2015</td>\n",
       "      <td>Quarter5</td>\n",
       "      <td>sweing</td>\n",
       "      <td>Thursday</td>\n",
       "      <td>3</td>\n",
       "      <td>0.80</td>\n",
       "      <td>22.52</td>\n",
       "      <td>1287.0</td>\n",
       "      <td>6840</td>\n",
       "      <td>100</td>\n",
       "      <td>0.0</td>\n",
       "      <td>0</td>\n",
       "      <td>0</td>\n",
       "      <td>57.0</td>\n",
       "      <td>0.950186</td>\n",
       "    </tr>\n",
       "    <tr>\n",
       "      <th>501</th>\n",
       "      <td>1/29/2015</td>\n",
       "      <td>Quarter5</td>\n",
       "      <td>sweing</td>\n",
       "      <td>Thursday</td>\n",
       "      <td>4</td>\n",
       "      <td>0.80</td>\n",
       "      <td>22.52</td>\n",
       "      <td>1444.0</td>\n",
       "      <td>6900</td>\n",
       "      <td>88</td>\n",
       "      <td>0.0</td>\n",
       "      <td>0</td>\n",
       "      <td>0</td>\n",
       "      <td>57.5</td>\n",
       "      <td>0.900800</td>\n",
       "    </tr>\n",
       "    <tr>\n",
       "      <th>502</th>\n",
       "      <td>1/29/2015</td>\n",
       "      <td>Quarter5</td>\n",
       "      <td>sweing</td>\n",
       "      <td>Thursday</td>\n",
       "      <td>10</td>\n",
       "      <td>0.80</td>\n",
       "      <td>22.52</td>\n",
       "      <td>1088.0</td>\n",
       "      <td>6720</td>\n",
       "      <td>88</td>\n",
       "      <td>0.0</td>\n",
       "      <td>0</td>\n",
       "      <td>0</td>\n",
       "      <td>56.0</td>\n",
       "      <td>0.900130</td>\n",
       "    </tr>\n",
       "    <tr>\n",
       "      <th>503</th>\n",
       "      <td>1/29/2015</td>\n",
       "      <td>Quarter5</td>\n",
       "      <td>finishing</td>\n",
       "      <td>Thursday</td>\n",
       "      <td>6</td>\n",
       "      <td>0.50</td>\n",
       "      <td>2.90</td>\n",
       "      <td>0.0</td>\n",
       "      <td>1200</td>\n",
       "      <td>0</td>\n",
       "      <td>0.0</td>\n",
       "      <td>0</td>\n",
       "      <td>0</td>\n",
       "      <td>10.0</td>\n",
       "      <td>0.899000</td>\n",
       "    </tr>\n",
       "    <tr>\n",
       "      <th>504</th>\n",
       "      <td>1/29/2015</td>\n",
       "      <td>Quarter5</td>\n",
       "      <td>finishing</td>\n",
       "      <td>Thursday</td>\n",
       "      <td>8</td>\n",
       "      <td>0.65</td>\n",
       "      <td>4.15</td>\n",
       "      <td>0.0</td>\n",
       "      <td>960</td>\n",
       "      <td>0</td>\n",
       "      <td>0.0</td>\n",
       "      <td>0</td>\n",
       "      <td>0</td>\n",
       "      <td>8.0</td>\n",
       "      <td>0.877552</td>\n",
       "    </tr>\n",
       "    <tr>\n",
       "      <th>505</th>\n",
       "      <td>1/29/2015</td>\n",
       "      <td>Quarter5</td>\n",
       "      <td>finishing</td>\n",
       "      <td>Thursday</td>\n",
       "      <td>11</td>\n",
       "      <td>0.60</td>\n",
       "      <td>2.90</td>\n",
       "      <td>0.0</td>\n",
       "      <td>960</td>\n",
       "      <td>0</td>\n",
       "      <td>0.0</td>\n",
       "      <td>0</td>\n",
       "      <td>0</td>\n",
       "      <td>8.0</td>\n",
       "      <td>0.864583</td>\n",
       "    </tr>\n",
       "    <tr>\n",
       "      <th>506</th>\n",
       "      <td>1/29/2015</td>\n",
       "      <td>Quarter5</td>\n",
       "      <td>finishing</td>\n",
       "      <td>Thursday</td>\n",
       "      <td>10</td>\n",
       "      <td>0.80</td>\n",
       "      <td>3.94</td>\n",
       "      <td>0.0</td>\n",
       "      <td>1200</td>\n",
       "      <td>0</td>\n",
       "      <td>0.0</td>\n",
       "      <td>0</td>\n",
       "      <td>0</td>\n",
       "      <td>10.0</td>\n",
       "      <td>0.856950</td>\n",
       "    </tr>\n",
       "    <tr>\n",
       "      <th>507</th>\n",
       "      <td>1/29/2015</td>\n",
       "      <td>Quarter5</td>\n",
       "      <td>finishing</td>\n",
       "      <td>Thursday</td>\n",
       "      <td>1</td>\n",
       "      <td>0.75</td>\n",
       "      <td>3.94</td>\n",
       "      <td>0.0</td>\n",
       "      <td>1200</td>\n",
       "      <td>0</td>\n",
       "      <td>0.0</td>\n",
       "      <td>0</td>\n",
       "      <td>0</td>\n",
       "      <td>10.0</td>\n",
       "      <td>0.853667</td>\n",
       "    </tr>\n",
       "    <tr>\n",
       "      <th>508</th>\n",
       "      <td>1/29/2015</td>\n",
       "      <td>Quarter5</td>\n",
       "      <td>sweing</td>\n",
       "      <td>Thursday</td>\n",
       "      <td>1</td>\n",
       "      <td>0.75</td>\n",
       "      <td>22.94</td>\n",
       "      <td>1579.0</td>\n",
       "      <td>6960</td>\n",
       "      <td>81</td>\n",
       "      <td>0.0</td>\n",
       "      <td>0</td>\n",
       "      <td>0</td>\n",
       "      <td>58.0</td>\n",
       "      <td>0.850362</td>\n",
       "    </tr>\n",
       "    <tr>\n",
       "      <th>509</th>\n",
       "      <td>1/29/2015</td>\n",
       "      <td>Quarter5</td>\n",
       "      <td>sweing</td>\n",
       "      <td>Thursday</td>\n",
       "      <td>9</td>\n",
       "      <td>0.70</td>\n",
       "      <td>29.12</td>\n",
       "      <td>1170.0</td>\n",
       "      <td>6960</td>\n",
       "      <td>53</td>\n",
       "      <td>0.0</td>\n",
       "      <td>0</td>\n",
       "      <td>0</td>\n",
       "      <td>58.0</td>\n",
       "      <td>0.850170</td>\n",
       "    </tr>\n",
       "    <tr>\n",
       "      <th>510</th>\n",
       "      <td>1/29/2015</td>\n",
       "      <td>Quarter5</td>\n",
       "      <td>sweing</td>\n",
       "      <td>Thursday</td>\n",
       "      <td>5</td>\n",
       "      <td>0.65</td>\n",
       "      <td>20.79</td>\n",
       "      <td>1015.0</td>\n",
       "      <td>7080</td>\n",
       "      <td>81</td>\n",
       "      <td>0.0</td>\n",
       "      <td>0</td>\n",
       "      <td>0</td>\n",
       "      <td>59.0</td>\n",
       "      <td>0.800474</td>\n",
       "    </tr>\n",
       "    <tr>\n",
       "      <th>511</th>\n",
       "      <td>1/29/2015</td>\n",
       "      <td>Quarter5</td>\n",
       "      <td>finishing</td>\n",
       "      <td>Thursday</td>\n",
       "      <td>2</td>\n",
       "      <td>0.80</td>\n",
       "      <td>3.94</td>\n",
       "      <td>0.0</td>\n",
       "      <td>1200</td>\n",
       "      <td>0</td>\n",
       "      <td>0.0</td>\n",
       "      <td>0</td>\n",
       "      <td>0</td>\n",
       "      <td>10.0</td>\n",
       "      <td>0.773333</td>\n",
       "    </tr>\n",
       "    <tr>\n",
       "      <th>512</th>\n",
       "      <td>1/29/2015</td>\n",
       "      <td>Quarter5</td>\n",
       "      <td>sweing</td>\n",
       "      <td>Thursday</td>\n",
       "      <td>12</td>\n",
       "      <td>0.75</td>\n",
       "      <td>15.26</td>\n",
       "      <td>1436.0</td>\n",
       "      <td>4200</td>\n",
       "      <td>45</td>\n",
       "      <td>0.0</td>\n",
       "      <td>0</td>\n",
       "      <td>0</td>\n",
       "      <td>35.0</td>\n",
       "      <td>0.750647</td>\n",
       "    </tr>\n",
       "    <tr>\n",
       "      <th>513</th>\n",
       "      <td>1/29/2015</td>\n",
       "      <td>Quarter5</td>\n",
       "      <td>finishing</td>\n",
       "      <td>Thursday</td>\n",
       "      <td>12</td>\n",
       "      <td>0.75</td>\n",
       "      <td>4.08</td>\n",
       "      <td>0.0</td>\n",
       "      <td>1080</td>\n",
       "      <td>0</td>\n",
       "      <td>0.0</td>\n",
       "      <td>0</td>\n",
       "      <td>0</td>\n",
       "      <td>9.0</td>\n",
       "      <td>0.634667</td>\n",
       "    </tr>\n",
       "    <tr>\n",
       "      <th>514</th>\n",
       "      <td>1/29/2015</td>\n",
       "      <td>Quarter5</td>\n",
       "      <td>sweing</td>\n",
       "      <td>Thursday</td>\n",
       "      <td>11</td>\n",
       "      <td>0.60</td>\n",
       "      <td>20.10</td>\n",
       "      <td>1601.0</td>\n",
       "      <td>4320</td>\n",
       "      <td>46</td>\n",
       "      <td>0.0</td>\n",
       "      <td>0</td>\n",
       "      <td>0</td>\n",
       "      <td>51.0</td>\n",
       "      <td>0.600598</td>\n",
       "    </tr>\n",
       "    <tr>\n",
       "      <th>515</th>\n",
       "      <td>1/29/2015</td>\n",
       "      <td>Quarter5</td>\n",
       "      <td>sweing</td>\n",
       "      <td>Thursday</td>\n",
       "      <td>6</td>\n",
       "      <td>0.50</td>\n",
       "      <td>18.79</td>\n",
       "      <td>717.0</td>\n",
       "      <td>3960</td>\n",
       "      <td>23</td>\n",
       "      <td>0.0</td>\n",
       "      <td>0</td>\n",
       "      <td>0</td>\n",
       "      <td>33.0</td>\n",
       "      <td>0.500118</td>\n",
       "    </tr>\n",
       "    <tr>\n",
       "      <th>516</th>\n",
       "      <td>1/29/2015</td>\n",
       "      <td>Quarter5</td>\n",
       "      <td>finishing</td>\n",
       "      <td>Thursday</td>\n",
       "      <td>3</td>\n",
       "      <td>0.80</td>\n",
       "      <td>3.94</td>\n",
       "      <td>0.0</td>\n",
       "      <td>960</td>\n",
       "      <td>0</td>\n",
       "      <td>0.0</td>\n",
       "      <td>0</td>\n",
       "      <td>0</td>\n",
       "      <td>8.0</td>\n",
       "      <td>0.492500</td>\n",
       "    </tr>\n",
       "    <tr>\n",
       "      <th>517</th>\n",
       "      <td>1/29/2015</td>\n",
       "      <td>Quarter5</td>\n",
       "      <td>sweing</td>\n",
       "      <td>Thursday</td>\n",
       "      <td>7</td>\n",
       "      <td>0.65</td>\n",
       "      <td>23.54</td>\n",
       "      <td>830.0</td>\n",
       "      <td>6600</td>\n",
       "      <td>0</td>\n",
       "      <td>0.0</td>\n",
       "      <td>0</td>\n",
       "      <td>0</td>\n",
       "      <td>55.0</td>\n",
       "      <td>0.487920</td>\n",
       "    </tr>\n",
       "    <tr>\n",
       "      <th>518</th>\n",
       "      <td>1/31/2015</td>\n",
       "      <td>Quarter5</td>\n",
       "      <td>sweing</td>\n",
       "      <td>Saturday</td>\n",
       "      <td>3</td>\n",
       "      <td>0.80</td>\n",
       "      <td>22.52</td>\n",
       "      <td>1136.0</td>\n",
       "      <td>6960</td>\n",
       "      <td>113</td>\n",
       "      <td>0.0</td>\n",
       "      <td>0</td>\n",
       "      <td>0</td>\n",
       "      <td>58.0</td>\n",
       "      <td>1.000457</td>\n",
       "    </tr>\n",
       "    <tr>\n",
       "      <th>519</th>\n",
       "      <td>1/31/2015</td>\n",
       "      <td>Quarter5</td>\n",
       "      <td>sweing</td>\n",
       "      <td>Saturday</td>\n",
       "      <td>2</td>\n",
       "      <td>0.80</td>\n",
       "      <td>22.52</td>\n",
       "      <td>1397.0</td>\n",
       "      <td>6840</td>\n",
       "      <td>113</td>\n",
       "      <td>0.0</td>\n",
       "      <td>0</td>\n",
       "      <td>0</td>\n",
       "      <td>57.0</td>\n",
       "      <td>1.000230</td>\n",
       "    </tr>\n",
       "    <tr>\n",
       "      <th>520</th>\n",
       "      <td>1/31/2015</td>\n",
       "      <td>Quarter5</td>\n",
       "      <td>finishing</td>\n",
       "      <td>Saturday</td>\n",
       "      <td>2</td>\n",
       "      <td>0.80</td>\n",
       "      <td>3.94</td>\n",
       "      <td>0.0</td>\n",
       "      <td>1200</td>\n",
       "      <td>0</td>\n",
       "      <td>0.0</td>\n",
       "      <td>0</td>\n",
       "      <td>0</td>\n",
       "      <td>10.0</td>\n",
       "      <td>0.971867</td>\n",
       "    </tr>\n",
       "    <tr>\n",
       "      <th>521</th>\n",
       "      <td>1/31/2015</td>\n",
       "      <td>Quarter5</td>\n",
       "      <td>finishing</td>\n",
       "      <td>Saturday</td>\n",
       "      <td>3</td>\n",
       "      <td>0.80</td>\n",
       "      <td>3.94</td>\n",
       "      <td>0.0</td>\n",
       "      <td>960</td>\n",
       "      <td>0</td>\n",
       "      <td>0.0</td>\n",
       "      <td>0</td>\n",
       "      <td>0</td>\n",
       "      <td>8.0</td>\n",
       "      <td>0.971867</td>\n",
       "    </tr>\n",
       "    <tr>\n",
       "      <th>522</th>\n",
       "      <td>1/31/2015</td>\n",
       "      <td>Quarter5</td>\n",
       "      <td>finishing</td>\n",
       "      <td>Saturday</td>\n",
       "      <td>4</td>\n",
       "      <td>0.80</td>\n",
       "      <td>3.94</td>\n",
       "      <td>0.0</td>\n",
       "      <td>1200</td>\n",
       "      <td>0</td>\n",
       "      <td>0.0</td>\n",
       "      <td>0</td>\n",
       "      <td>0</td>\n",
       "      <td>10.0</td>\n",
       "      <td>0.971867</td>\n",
       "    </tr>\n",
       "    <tr>\n",
       "      <th>523</th>\n",
       "      <td>1/31/2015</td>\n",
       "      <td>Quarter5</td>\n",
       "      <td>finishing</td>\n",
       "      <td>Saturday</td>\n",
       "      <td>10</td>\n",
       "      <td>0.80</td>\n",
       "      <td>3.94</td>\n",
       "      <td>0.0</td>\n",
       "      <td>1200</td>\n",
       "      <td>0</td>\n",
       "      <td>0.0</td>\n",
       "      <td>0</td>\n",
       "      <td>0</td>\n",
       "      <td>10.0</td>\n",
       "      <td>0.971867</td>\n",
       "    </tr>\n",
       "    <tr>\n",
       "      <th>524</th>\n",
       "      <td>1/31/2015</td>\n",
       "      <td>Quarter5</td>\n",
       "      <td>finishing</td>\n",
       "      <td>Saturday</td>\n",
       "      <td>1</td>\n",
       "      <td>0.75</td>\n",
       "      <td>3.94</td>\n",
       "      <td>0.0</td>\n",
       "      <td>1800</td>\n",
       "      <td>0</td>\n",
       "      <td>0.0</td>\n",
       "      <td>0</td>\n",
       "      <td>0</td>\n",
       "      <td>15.0</td>\n",
       "      <td>0.971867</td>\n",
       "    </tr>\n",
       "    <tr>\n",
       "      <th>525</th>\n",
       "      <td>1/31/2015</td>\n",
       "      <td>Quarter5</td>\n",
       "      <td>finishing</td>\n",
       "      <td>Saturday</td>\n",
       "      <td>9</td>\n",
       "      <td>0.75</td>\n",
       "      <td>3.94</td>\n",
       "      <td>0.0</td>\n",
       "      <td>240</td>\n",
       "      <td>0</td>\n",
       "      <td>0.0</td>\n",
       "      <td>0</td>\n",
       "      <td>0</td>\n",
       "      <td>2.0</td>\n",
       "      <td>0.971867</td>\n",
       "    </tr>\n",
       "    <tr>\n",
       "      <th>526</th>\n",
       "      <td>1/31/2015</td>\n",
       "      <td>Quarter5</td>\n",
       "      <td>finishing</td>\n",
       "      <td>Saturday</td>\n",
       "      <td>12</td>\n",
       "      <td>0.75</td>\n",
       "      <td>4.08</td>\n",
       "      <td>0.0</td>\n",
       "      <td>1080</td>\n",
       "      <td>0</td>\n",
       "      <td>0.0</td>\n",
       "      <td>0</td>\n",
       "      <td>0</td>\n",
       "      <td>9.0</td>\n",
       "      <td>0.971867</td>\n",
       "    </tr>\n",
       "    <tr>\n",
       "      <th>527</th>\n",
       "      <td>1/31/2015</td>\n",
       "      <td>Quarter5</td>\n",
       "      <td>finishing</td>\n",
       "      <td>Saturday</td>\n",
       "      <td>5</td>\n",
       "      <td>0.70</td>\n",
       "      <td>3.94</td>\n",
       "      <td>0.0</td>\n",
       "      <td>240</td>\n",
       "      <td>0</td>\n",
       "      <td>0.0</td>\n",
       "      <td>0</td>\n",
       "      <td>0</td>\n",
       "      <td>2.0</td>\n",
       "      <td>0.971867</td>\n",
       "    </tr>\n",
       "    <tr>\n",
       "      <th>528</th>\n",
       "      <td>1/31/2015</td>\n",
       "      <td>Quarter5</td>\n",
       "      <td>finishing</td>\n",
       "      <td>Saturday</td>\n",
       "      <td>7</td>\n",
       "      <td>0.70</td>\n",
       "      <td>3.94</td>\n",
       "      <td>0.0</td>\n",
       "      <td>1200</td>\n",
       "      <td>0</td>\n",
       "      <td>0.0</td>\n",
       "      <td>0</td>\n",
       "      <td>0</td>\n",
       "      <td>10.0</td>\n",
       "      <td>0.971867</td>\n",
       "    </tr>\n",
       "    <tr>\n",
       "      <th>529</th>\n",
       "      <td>1/31/2015</td>\n",
       "      <td>Quarter5</td>\n",
       "      <td>finishing</td>\n",
       "      <td>Saturday</td>\n",
       "      <td>8</td>\n",
       "      <td>0.65</td>\n",
       "      <td>3.94</td>\n",
       "      <td>0.0</td>\n",
       "      <td>960</td>\n",
       "      <td>0</td>\n",
       "      <td>0.0</td>\n",
       "      <td>0</td>\n",
       "      <td>0</td>\n",
       "      <td>8.0</td>\n",
       "      <td>0.971867</td>\n",
       "    </tr>\n",
       "    <tr>\n",
       "      <th>530</th>\n",
       "      <td>1/31/2015</td>\n",
       "      <td>Quarter5</td>\n",
       "      <td>finishing</td>\n",
       "      <td>Saturday</td>\n",
       "      <td>11</td>\n",
       "      <td>0.65</td>\n",
       "      <td>3.94</td>\n",
       "      <td>0.0</td>\n",
       "      <td>600</td>\n",
       "      <td>0</td>\n",
       "      <td>0.0</td>\n",
       "      <td>0</td>\n",
       "      <td>0</td>\n",
       "      <td>5.0</td>\n",
       "      <td>0.971867</td>\n",
       "    </tr>\n",
       "    <tr>\n",
       "      <th>531</th>\n",
       "      <td>1/31/2015</td>\n",
       "      <td>Quarter5</td>\n",
       "      <td>finishing</td>\n",
       "      <td>Saturday</td>\n",
       "      <td>6</td>\n",
       "      <td>0.60</td>\n",
       "      <td>3.94</td>\n",
       "      <td>0.0</td>\n",
       "      <td>1200</td>\n",
       "      <td>0</td>\n",
       "      <td>0.0</td>\n",
       "      <td>0</td>\n",
       "      <td>0</td>\n",
       "      <td>10.0</td>\n",
       "      <td>0.971867</td>\n",
       "    </tr>\n",
       "    <tr>\n",
       "      <th>532</th>\n",
       "      <td>1/31/2015</td>\n",
       "      <td>Quarter5</td>\n",
       "      <td>sweing</td>\n",
       "      <td>Saturday</td>\n",
       "      <td>10</td>\n",
       "      <td>0.80</td>\n",
       "      <td>22.52</td>\n",
       "      <td>1116.0</td>\n",
       "      <td>6720</td>\n",
       "      <td>93</td>\n",
       "      <td>0.0</td>\n",
       "      <td>0</td>\n",
       "      <td>0</td>\n",
       "      <td>56.0</td>\n",
       "      <td>0.920237</td>\n",
       "    </tr>\n",
       "    <tr>\n",
       "      <th>533</th>\n",
       "      <td>1/31/2015</td>\n",
       "      <td>Quarter5</td>\n",
       "      <td>sweing</td>\n",
       "      <td>Saturday</td>\n",
       "      <td>4</td>\n",
       "      <td>0.80</td>\n",
       "      <td>22.52</td>\n",
       "      <td>1432.0</td>\n",
       "      <td>6660</td>\n",
       "      <td>88</td>\n",
       "      <td>0.0</td>\n",
       "      <td>0</td>\n",
       "      <td>0</td>\n",
       "      <td>57.5</td>\n",
       "      <td>0.900537</td>\n",
       "    </tr>\n",
       "    <tr>\n",
       "      <th>534</th>\n",
       "      <td>1/31/2015</td>\n",
       "      <td>Quarter5</td>\n",
       "      <td>sweing</td>\n",
       "      <td>Saturday</td>\n",
       "      <td>9</td>\n",
       "      <td>0.75</td>\n",
       "      <td>29.12</td>\n",
       "      <td>1082.0</td>\n",
       "      <td>6840</td>\n",
       "      <td>81</td>\n",
       "      <td>0.0</td>\n",
       "      <td>0</td>\n",
       "      <td>0</td>\n",
       "      <td>57.0</td>\n",
       "      <td>0.850611</td>\n",
       "    </tr>\n",
       "    <tr>\n",
       "      <th>535</th>\n",
       "      <td>1/31/2015</td>\n",
       "      <td>Quarter5</td>\n",
       "      <td>sweing</td>\n",
       "      <td>Saturday</td>\n",
       "      <td>1</td>\n",
       "      <td>0.75</td>\n",
       "      <td>22.94</td>\n",
       "      <td>1502.0</td>\n",
       "      <td>6960</td>\n",
       "      <td>81</td>\n",
       "      <td>0.0</td>\n",
       "      <td>0</td>\n",
       "      <td>0</td>\n",
       "      <td>58.0</td>\n",
       "      <td>0.850362</td>\n",
       "    </tr>\n",
       "    <tr>\n",
       "      <th>536</th>\n",
       "      <td>1/31/2015</td>\n",
       "      <td>Quarter5</td>\n",
       "      <td>sweing</td>\n",
       "      <td>Saturday</td>\n",
       "      <td>12</td>\n",
       "      <td>0.75</td>\n",
       "      <td>15.26</td>\n",
       "      <td>1209.0</td>\n",
       "      <td>4200</td>\n",
       "      <td>45</td>\n",
       "      <td>0.0</td>\n",
       "      <td>0</td>\n",
       "      <td>0</td>\n",
       "      <td>35.0</td>\n",
       "      <td>0.750647</td>\n",
       "    </tr>\n",
       "    <tr>\n",
       "      <th>537</th>\n",
       "      <td>1/31/2015</td>\n",
       "      <td>Quarter5</td>\n",
       "      <td>sweing</td>\n",
       "      <td>Saturday</td>\n",
       "      <td>5</td>\n",
       "      <td>0.70</td>\n",
       "      <td>50.89</td>\n",
       "      <td>282.0</td>\n",
       "      <td>5880</td>\n",
       "      <td>56</td>\n",
       "      <td>0.0</td>\n",
       "      <td>0</td>\n",
       "      <td>0</td>\n",
       "      <td>59.0</td>\n",
       "      <td>0.656764</td>\n",
       "    </tr>\n",
       "    <tr>\n",
       "      <th>538</th>\n",
       "      <td>1/31/2015</td>\n",
       "      <td>Quarter5</td>\n",
       "      <td>sweing</td>\n",
       "      <td>Saturday</td>\n",
       "      <td>11</td>\n",
       "      <td>0.65</td>\n",
       "      <td>20.10</td>\n",
       "      <td>1417.0</td>\n",
       "      <td>6480</td>\n",
       "      <td>49</td>\n",
       "      <td>0.0</td>\n",
       "      <td>0</td>\n",
       "      <td>0</td>\n",
       "      <td>54.0</td>\n",
       "      <td>0.650148</td>\n",
       "    </tr>\n",
       "    <tr>\n",
       "      <th>539</th>\n",
       "      <td>1/31/2015</td>\n",
       "      <td>Quarter5</td>\n",
       "      <td>sweing</td>\n",
       "      <td>Saturday</td>\n",
       "      <td>6</td>\n",
       "      <td>0.60</td>\n",
       "      <td>18.79</td>\n",
       "      <td>799.0</td>\n",
       "      <td>3960</td>\n",
       "      <td>23</td>\n",
       "      <td>0.0</td>\n",
       "      <td>0</td>\n",
       "      <td>0</td>\n",
       "      <td>33.0</td>\n",
       "      <td>0.600711</td>\n",
       "    </tr>\n",
       "    <tr>\n",
       "      <th>540</th>\n",
       "      <td>1/31/2015</td>\n",
       "      <td>Quarter5</td>\n",
       "      <td>sweing</td>\n",
       "      <td>Saturday</td>\n",
       "      <td>7</td>\n",
       "      <td>0.70</td>\n",
       "      <td>23.54</td>\n",
       "      <td>1109.0</td>\n",
       "      <td>6720</td>\n",
       "      <td>0</td>\n",
       "      <td>0.0</td>\n",
       "      <td>0</td>\n",
       "      <td>0</td>\n",
       "      <td>56.0</td>\n",
       "      <td>0.388830</td>\n",
       "    </tr>\n",
       "    <tr>\n",
       "      <th>541</th>\n",
       "      <td>1/31/2015</td>\n",
       "      <td>Quarter5</td>\n",
       "      <td>sweing</td>\n",
       "      <td>Saturday</td>\n",
       "      <td>8</td>\n",
       "      <td>0.50</td>\n",
       "      <td>23.54</td>\n",
       "      <td>1144.0</td>\n",
       "      <td>6480</td>\n",
       "      <td>0</td>\n",
       "      <td>0.0</td>\n",
       "      <td>0</td>\n",
       "      <td>0</td>\n",
       "      <td>54.0</td>\n",
       "      <td>0.286985</td>\n",
       "    </tr>\n",
       "  </tbody>\n",
       "</table>\n",
       "</div>"
      ],
      "text/plain": [
       "          date   quarter  department       day  team  targeted_productivity  \\\n",
       "498  1/29/2015  Quarter5      sweing  Thursday     2                   0.80   \n",
       "499  1/29/2015  Quarter5  finishing   Thursday     4                   0.80   \n",
       "500  1/29/2015  Quarter5      sweing  Thursday     3                   0.80   \n",
       "501  1/29/2015  Quarter5      sweing  Thursday     4                   0.80   \n",
       "502  1/29/2015  Quarter5      sweing  Thursday    10                   0.80   \n",
       "503  1/29/2015  Quarter5  finishing   Thursday     6                   0.50   \n",
       "504  1/29/2015  Quarter5  finishing   Thursday     8                   0.65   \n",
       "505  1/29/2015  Quarter5  finishing   Thursday    11                   0.60   \n",
       "506  1/29/2015  Quarter5  finishing   Thursday    10                   0.80   \n",
       "507  1/29/2015  Quarter5  finishing   Thursday     1                   0.75   \n",
       "508  1/29/2015  Quarter5      sweing  Thursday     1                   0.75   \n",
       "509  1/29/2015  Quarter5      sweing  Thursday     9                   0.70   \n",
       "510  1/29/2015  Quarter5      sweing  Thursday     5                   0.65   \n",
       "511  1/29/2015  Quarter5  finishing   Thursday     2                   0.80   \n",
       "512  1/29/2015  Quarter5      sweing  Thursday    12                   0.75   \n",
       "513  1/29/2015  Quarter5  finishing   Thursday    12                   0.75   \n",
       "514  1/29/2015  Quarter5      sweing  Thursday    11                   0.60   \n",
       "515  1/29/2015  Quarter5      sweing  Thursday     6                   0.50   \n",
       "516  1/29/2015  Quarter5  finishing   Thursday     3                   0.80   \n",
       "517  1/29/2015  Quarter5      sweing  Thursday     7                   0.65   \n",
       "518  1/31/2015  Quarter5      sweing  Saturday     3                   0.80   \n",
       "519  1/31/2015  Quarter5      sweing  Saturday     2                   0.80   \n",
       "520  1/31/2015  Quarter5  finishing   Saturday     2                   0.80   \n",
       "521  1/31/2015  Quarter5  finishing   Saturday     3                   0.80   \n",
       "522  1/31/2015  Quarter5  finishing   Saturday     4                   0.80   \n",
       "523  1/31/2015  Quarter5  finishing   Saturday    10                   0.80   \n",
       "524  1/31/2015  Quarter5  finishing   Saturday     1                   0.75   \n",
       "525  1/31/2015  Quarter5  finishing   Saturday     9                   0.75   \n",
       "526  1/31/2015  Quarter5  finishing   Saturday    12                   0.75   \n",
       "527  1/31/2015  Quarter5  finishing   Saturday     5                   0.70   \n",
       "528  1/31/2015  Quarter5  finishing   Saturday     7                   0.70   \n",
       "529  1/31/2015  Quarter5  finishing   Saturday     8                   0.65   \n",
       "530  1/31/2015  Quarter5  finishing   Saturday    11                   0.65   \n",
       "531  1/31/2015  Quarter5  finishing   Saturday     6                   0.60   \n",
       "532  1/31/2015  Quarter5      sweing  Saturday    10                   0.80   \n",
       "533  1/31/2015  Quarter5      sweing  Saturday     4                   0.80   \n",
       "534  1/31/2015  Quarter5      sweing  Saturday     9                   0.75   \n",
       "535  1/31/2015  Quarter5      sweing  Saturday     1                   0.75   \n",
       "536  1/31/2015  Quarter5      sweing  Saturday    12                   0.75   \n",
       "537  1/31/2015  Quarter5      sweing  Saturday     5                   0.70   \n",
       "538  1/31/2015  Quarter5      sweing  Saturday    11                   0.65   \n",
       "539  1/31/2015  Quarter5      sweing  Saturday     6                   0.60   \n",
       "540  1/31/2015  Quarter5      sweing  Saturday     7                   0.70   \n",
       "541  1/31/2015  Quarter5      sweing  Saturday     8                   0.50   \n",
       "\n",
       "       smv     wip  over_time  incentive  idle_time  idle_men  \\\n",
       "498  22.52  1416.0       6840        113        0.0         0   \n",
       "499   4.30     0.0       1200          0        0.0         0   \n",
       "500  22.52  1287.0       6840        100        0.0         0   \n",
       "501  22.52  1444.0       6900         88        0.0         0   \n",
       "502  22.52  1088.0       6720         88        0.0         0   \n",
       "503   2.90     0.0       1200          0        0.0         0   \n",
       "504   4.15     0.0        960          0        0.0         0   \n",
       "505   2.90     0.0        960          0        0.0         0   \n",
       "506   3.94     0.0       1200          0        0.0         0   \n",
       "507   3.94     0.0       1200          0        0.0         0   \n",
       "508  22.94  1579.0       6960         81        0.0         0   \n",
       "509  29.12  1170.0       6960         53        0.0         0   \n",
       "510  20.79  1015.0       7080         81        0.0         0   \n",
       "511   3.94     0.0       1200          0        0.0         0   \n",
       "512  15.26  1436.0       4200         45        0.0         0   \n",
       "513   4.08     0.0       1080          0        0.0         0   \n",
       "514  20.10  1601.0       4320         46        0.0         0   \n",
       "515  18.79   717.0       3960         23        0.0         0   \n",
       "516   3.94     0.0        960          0        0.0         0   \n",
       "517  23.54   830.0       6600          0        0.0         0   \n",
       "518  22.52  1136.0       6960        113        0.0         0   \n",
       "519  22.52  1397.0       6840        113        0.0         0   \n",
       "520   3.94     0.0       1200          0        0.0         0   \n",
       "521   3.94     0.0        960          0        0.0         0   \n",
       "522   3.94     0.0       1200          0        0.0         0   \n",
       "523   3.94     0.0       1200          0        0.0         0   \n",
       "524   3.94     0.0       1800          0        0.0         0   \n",
       "525   3.94     0.0        240          0        0.0         0   \n",
       "526   4.08     0.0       1080          0        0.0         0   \n",
       "527   3.94     0.0        240          0        0.0         0   \n",
       "528   3.94     0.0       1200          0        0.0         0   \n",
       "529   3.94     0.0        960          0        0.0         0   \n",
       "530   3.94     0.0        600          0        0.0         0   \n",
       "531   3.94     0.0       1200          0        0.0         0   \n",
       "532  22.52  1116.0       6720         93        0.0         0   \n",
       "533  22.52  1432.0       6660         88        0.0         0   \n",
       "534  29.12  1082.0       6840         81        0.0         0   \n",
       "535  22.94  1502.0       6960         81        0.0         0   \n",
       "536  15.26  1209.0       4200         45        0.0         0   \n",
       "537  50.89   282.0       5880         56        0.0         0   \n",
       "538  20.10  1417.0       6480         49        0.0         0   \n",
       "539  18.79   799.0       3960         23        0.0         0   \n",
       "540  23.54  1109.0       6720          0        0.0         0   \n",
       "541  23.54  1144.0       6480          0        0.0         0   \n",
       "\n",
       "     no_of_style_change  no_of_workers  actual_productivity  \n",
       "498                   0           57.0             1.000230  \n",
       "499                   0           10.0             0.989000  \n",
       "500                   0           57.0             0.950186  \n",
       "501                   0           57.5             0.900800  \n",
       "502                   0           56.0             0.900130  \n",
       "503                   0           10.0             0.899000  \n",
       "504                   0            8.0             0.877552  \n",
       "505                   0            8.0             0.864583  \n",
       "506                   0           10.0             0.856950  \n",
       "507                   0           10.0             0.853667  \n",
       "508                   0           58.0             0.850362  \n",
       "509                   0           58.0             0.850170  \n",
       "510                   0           59.0             0.800474  \n",
       "511                   0           10.0             0.773333  \n",
       "512                   0           35.0             0.750647  \n",
       "513                   0            9.0             0.634667  \n",
       "514                   0           51.0             0.600598  \n",
       "515                   0           33.0             0.500118  \n",
       "516                   0            8.0             0.492500  \n",
       "517                   0           55.0             0.487920  \n",
       "518                   0           58.0             1.000457  \n",
       "519                   0           57.0             1.000230  \n",
       "520                   0           10.0             0.971867  \n",
       "521                   0            8.0             0.971867  \n",
       "522                   0           10.0             0.971867  \n",
       "523                   0           10.0             0.971867  \n",
       "524                   0           15.0             0.971867  \n",
       "525                   0            2.0             0.971867  \n",
       "526                   0            9.0             0.971867  \n",
       "527                   0            2.0             0.971867  \n",
       "528                   0           10.0             0.971867  \n",
       "529                   0            8.0             0.971867  \n",
       "530                   0            5.0             0.971867  \n",
       "531                   0           10.0             0.971867  \n",
       "532                   0           56.0             0.920237  \n",
       "533                   0           57.5             0.900537  \n",
       "534                   0           57.0             0.850611  \n",
       "535                   0           58.0             0.850362  \n",
       "536                   0           35.0             0.750647  \n",
       "537                   0           59.0             0.656764  \n",
       "538                   0           54.0             0.650148  \n",
       "539                   0           33.0             0.600711  \n",
       "540                   0           56.0             0.388830  \n",
       "541                   0           54.0             0.286985  "
      ]
     },
     "execution_count": 11,
     "metadata": {},
     "output_type": "execute_result"
    }
   ],
   "source": [
    "garment[garment['quarter'] == 'Quarter5']"
   ]
  },
  {
   "cell_type": "code",
   "execution_count": 12,
   "metadata": {},
   "outputs": [],
   "source": [
    "garment['quarter'] = garment.quarter.str.replace('Quarter5', 'Quarter4')"
   ]
  },
  {
   "cell_type": "code",
   "execution_count": 13,
   "metadata": {},
   "outputs": [
    {
     "data": {
      "text/plain": [
       "array(['Quarter1', 'Quarter2', 'Quarter3', 'Quarter4'], dtype=object)"
      ]
     },
     "execution_count": 13,
     "metadata": {},
     "output_type": "execute_result"
    }
   ],
   "source": [
    "garment['quarter'].unique()"
   ]
  },
  {
   "cell_type": "code",
   "execution_count": 14,
   "metadata": {},
   "outputs": [
    {
     "name": "stdout",
     "output_type": "stream",
     "text": [
      "Unique Vaues in Department before cleaning:\n",
      "['sweing' 'finishing ' 'finishing']\n",
      "Unique Vaues in Department afer cleaning:\n",
      "['sweing' 'finishing']\n"
     ]
    }
   ],
   "source": [
    "print('Unique Vaues in Department before cleaning:')\n",
    "print(garment.department.unique())\n",
    "garment['department'] = garment.department.str.strip()\n",
    "print('Unique Vaues in Department afer cleaning:')\n",
    "print(garment.department.unique())"
   ]
  },
  {
   "cell_type": "code",
   "execution_count": 15,
   "metadata": {},
   "outputs": [
    {
     "name": "stdout",
     "output_type": "stream",
     "text": [
      "['fixing the error in the name:sewing'\n",
      " 'fixing the error in the name:finishing']\n"
     ]
    }
   ],
   "source": [
    "garment['department']=garment['department'].replace(['sweing'],['sewing']) \n",
    "print(('fixing the error in the name:') + (garment.department.unique()))\n",
    "#print(garment.department.unique())"
   ]
  },
  {
   "cell_type": "code",
   "execution_count": 16,
   "metadata": {},
   "outputs": [
    {
     "data": {
      "text/html": [
       "<div>\n",
       "<style scoped>\n",
       "    .dataframe tbody tr th:only-of-type {\n",
       "        vertical-align: middle;\n",
       "    }\n",
       "\n",
       "    .dataframe tbody tr th {\n",
       "        vertical-align: top;\n",
       "    }\n",
       "\n",
       "    .dataframe thead th {\n",
       "        text-align: right;\n",
       "    }\n",
       "</style>\n",
       "<table border=\"1\" class=\"dataframe\">\n",
       "  <thead>\n",
       "    <tr style=\"text-align: right;\">\n",
       "      <th></th>\n",
       "      <th>date</th>\n",
       "      <th>quarter</th>\n",
       "      <th>department</th>\n",
       "      <th>day</th>\n",
       "      <th>team</th>\n",
       "      <th>targeted_productivity</th>\n",
       "      <th>smv</th>\n",
       "      <th>wip</th>\n",
       "      <th>over_time</th>\n",
       "      <th>incentive</th>\n",
       "      <th>idle_time</th>\n",
       "      <th>idle_men</th>\n",
       "      <th>no_of_style_change</th>\n",
       "      <th>no_of_workers</th>\n",
       "      <th>actual_productivity</th>\n",
       "      <th>overtime_in_hours</th>\n",
       "    </tr>\n",
       "  </thead>\n",
       "  <tbody>\n",
       "    <tr>\n",
       "      <th>678</th>\n",
       "      <td>02-09-2015</td>\n",
       "      <td>Quarter2</td>\n",
       "      <td>sewing</td>\n",
       "      <td>Monday</td>\n",
       "      <td>2</td>\n",
       "      <td>0.8</td>\n",
       "      <td>22.52</td>\n",
       "      <td>1413.0</td>\n",
       "      <td>360</td>\n",
       "      <td>70</td>\n",
       "      <td>0.0</td>\n",
       "      <td>0</td>\n",
       "      <td>0</td>\n",
       "      <td>57.0</td>\n",
       "      <td>0.900478</td>\n",
       "      <td>6.0</td>\n",
       "    </tr>\n",
       "  </tbody>\n",
       "</table>\n",
       "</div>"
      ],
      "text/plain": [
       "           date   quarter department     day  team  targeted_productivity  \\\n",
       "678  02-09-2015  Quarter2     sewing  Monday     2                    0.8   \n",
       "\n",
       "       smv     wip  over_time  incentive  idle_time  idle_men  \\\n",
       "678  22.52  1413.0        360         70        0.0         0   \n",
       "\n",
       "     no_of_style_change  no_of_workers  actual_productivity  overtime_in_hours  \n",
       "678                   0           57.0             0.900478                6.0  "
      ]
     },
     "execution_count": 16,
     "metadata": {},
     "output_type": "execute_result"
    }
   ],
   "source": [
    "garment['overtime_in_hours'] = garment['over_time'].apply(lambda x: x/60)\n",
    "garment.sample()"
   ]
  },
  {
   "cell_type": "code",
   "execution_count": 17,
   "metadata": {},
   "outputs": [
    {
     "data": {
      "text/plain": [
       "array([59. ,  8. , 30.5, 56. , 57.5, 55. , 54. , 18. , 60. , 12. , 20. ,\n",
       "       17. , 56.5, 54.5, 29.5, 31.5, 31. , 55.5, 58. , 10. , 16. , 32. ,\n",
       "       58.5, 15. ,  5. , 57. , 53. , 51.5,  2. ,  9. ,  7. , 19. , 28. ,\n",
       "       34. , 89. , 14. , 25. , 52. ,  4. , 21. , 35. , 51. , 33. , 11. ,\n",
       "       33.5, 22. , 26. , 27. , 59.5, 50. , 44. , 49. , 47. , 48. , 42. ,\n",
       "       24. , 45. , 46. , 39. , 38. ,  6. ])"
      ]
     },
     "execution_count": 17,
     "metadata": {},
     "output_type": "execute_result"
    }
   ],
   "source": [
    "garment['no_of_workers'].unique()"
   ]
  },
  {
   "cell_type": "code",
   "execution_count": 18,
   "metadata": {},
   "outputs": [
    {
     "data": {
      "text/plain": [
       "1197"
      ]
     },
     "execution_count": 18,
     "metadata": {},
     "output_type": "execute_result"
    }
   ],
   "source": [
    "garment['no_of_workers'].count()"
   ]
  },
  {
   "cell_type": "code",
   "execution_count": 19,
   "metadata": {},
   "outputs": [
    {
     "data": {
      "text/plain": [
       "array([59.,  8., 31., 56., 58., 55., 54., 18., 60., 12., 20., 17., 57.,\n",
       "       30., 32., 10., 16., 15.,  5., 53., 52.,  2.,  9.,  7., 19., 28.,\n",
       "       34., 89., 14., 25.,  4., 21., 35., 51., 33., 11., 22., 26., 27.,\n",
       "       50., 44., 49., 47., 48., 42., 24., 45., 46., 39., 38.,  6.])"
      ]
     },
     "execution_count": 19,
     "metadata": {},
     "output_type": "execute_result"
    }
   ],
   "source": [
    "garment['no_of_workers'] = garment['no_of_workers'].apply(np.ceil)\n",
    "garment['no_of_workers'].unique()"
   ]
  },
  {
   "attachments": {},
   "cell_type": "markdown",
   "metadata": {},
   "source": [
    "Upround the value in No_of_Workers\n",
    "There are some decimal data in column that shows number of workers, so we could round up the decimal values"
   ]
  },
  {
   "cell_type": "code",
   "execution_count": 20,
   "metadata": {},
   "outputs": [],
   "source": [
    "import math\n",
    "def myceil(no_of_workers):\n",
    "    return math.ceil(no_of_workers)\n",
    "x = garment.no_of_workers\n",
    "y = []\n",
    "for i in x:\n",
    "    y.append(myceil(i))\n",
    "    #print(y)"
   ]
  },
  {
   "cell_type": "code",
   "execution_count": 21,
   "metadata": {},
   "outputs": [
    {
     "data": {
      "image/png": "[encoded data removed]",
      "text/plain": [
       "<Figure size 432x288 with 1 Axes>"
      ]
     },
     "metadata": {},
     "output_type": "display_data"
    }
   ],
   "source": [
    "garment[\"quarter\"].value_counts().plot(kind='pie', autopct=\"%.1f%%\", pctdistance=1.40, labeldistance=.4)\n",
    "plt.show()"
   ]
  },
  {
   "cell_type": "code",
   "execution_count": 22,
   "metadata": {},
   "outputs": [
    {
     "data": {
      "image/png": "[encoded data removed]",
      "text/plain": [
       "<Figure size 432x288 with 1 Axes>"
      ]
     },
     "metadata": {},
     "output_type": "display_data"
    }
   ],
   "source": [
    "garment[\"department\"].value_counts().plot(kind='pie', autopct=\"%.1f%%\", pctdistance=1.40, labeldistance=.4)\n",
    "plt.show()"
   ]
  },
  {
   "cell_type": "code",
   "execution_count": 23,
   "metadata": {},
   "outputs": [
    {
     "data": {
      "image/png": "[encoded data removed]",
      "text/plain": [
       "<Figure size 432x288 with 1 Axes>"
      ]
     },
     "metadata": {},
     "output_type": "display_data"
    }
   ],
   "source": [
    "garment[\"team\"].value_counts().plot(kind='pie', autopct=\"%.1f%%\", pctdistance=1.40, labeldistance=.4)\n",
    "plt.show()"
   ]
  },
  {
   "cell_type": "code",
   "execution_count": 24,
   "metadata": {},
   "outputs": [
    {
     "data": {
      "image/png": "[encoded data removed]",
      "text/plain": [
       "<Figure size 432x288 with 1 Axes>"
      ]
     },
     "metadata": {},
     "output_type": "display_data"
    }
   ],
   "source": [
    "garment[\"day\"].value_counts().plot(kind='pie', autopct=\"%.1f%%\", pctdistance=1.40, labeldistance=.4)\n",
    "plt.show()"
   ]
  },
  {
   "cell_type": "code",
   "execution_count": 25,
   "metadata": {},
   "outputs": [
    {
     "data": {
      "text/html": [
       "<div>\n",
       "<style scoped>\n",
       "    .dataframe tbody tr th:only-of-type {\n",
       "        vertical-align: middle;\n",
       "    }\n",
       "\n",
       "    .dataframe tbody tr th {\n",
       "        vertical-align: top;\n",
       "    }\n",
       "\n",
       "    .dataframe thead th {\n",
       "        text-align: right;\n",
       "    }\n",
       "</style>\n",
       "<table border=\"1\" class=\"dataframe\">\n",
       "  <thead>\n",
       "    <tr style=\"text-align: right;\">\n",
       "      <th></th>\n",
       "      <th>date</th>\n",
       "      <th>quarter</th>\n",
       "      <th>department</th>\n",
       "      <th>day</th>\n",
       "      <th>team</th>\n",
       "      <th>targeted_productivity</th>\n",
       "      <th>smv</th>\n",
       "      <th>wip</th>\n",
       "      <th>over_time</th>\n",
       "      <th>incentive</th>\n",
       "      <th>idle_time</th>\n",
       "      <th>idle_men</th>\n",
       "      <th>no_of_style_change</th>\n",
       "      <th>no_of_workers</th>\n",
       "      <th>actual_productivity</th>\n",
       "      <th>overtime_in_hours</th>\n",
       "    </tr>\n",
       "    <tr>\n",
       "      <th>date</th>\n",
       "      <th></th>\n",
       "      <th></th>\n",
       "      <th></th>\n",
       "      <th></th>\n",
       "      <th></th>\n",
       "      <th></th>\n",
       "      <th></th>\n",
       "      <th></th>\n",
       "      <th></th>\n",
       "      <th></th>\n",
       "      <th></th>\n",
       "      <th></th>\n",
       "      <th></th>\n",
       "      <th></th>\n",
       "      <th></th>\n",
       "      <th></th>\n",
       "    </tr>\n",
       "  </thead>\n",
       "  <tbody>\n",
       "    <tr>\n",
       "      <th>2015-02-01</th>\n",
       "      <td>2015-02-01</td>\n",
       "      <td>Quarter1</td>\n",
       "      <td>sewing</td>\n",
       "      <td>Sunday</td>\n",
       "      <td>8</td>\n",
       "      <td>0.6</td>\n",
       "      <td>24.26</td>\n",
       "      <td>1196.0</td>\n",
       "      <td>6600</td>\n",
       "      <td>0</td>\n",
       "      <td>0.0</td>\n",
       "      <td>0</td>\n",
       "      <td>0</td>\n",
       "      <td>55.0</td>\n",
       "      <td>0.466821</td>\n",
       "      <td>110.0</td>\n",
       "    </tr>\n",
       "  </tbody>\n",
       "</table>\n",
       "</div>"
      ],
      "text/plain": [
       "                 date   quarter department     day  team  \\\n",
       "date                                                       \n",
       "2015-02-01 2015-02-01  Quarter1     sewing  Sunday     8   \n",
       "\n",
       "            targeted_productivity    smv     wip  over_time  incentive  \\\n",
       "date                                                                     \n",
       "2015-02-01                    0.6  24.26  1196.0       6600          0   \n",
       "\n",
       "            idle_time  idle_men  no_of_style_change  no_of_workers  \\\n",
       "date                                                                 \n",
       "2015-02-01        0.0         0                   0           55.0   \n",
       "\n",
       "            actual_productivity  overtime_in_hours  \n",
       "date                                                \n",
       "2015-02-01             0.466821              110.0  "
      ]
     },
     "execution_count": 25,
     "metadata": {},
     "output_type": "execute_result"
    }
   ],
   "source": [
    "garment['date'] = pd.to_datetime(garment['date'])\n",
    "garment.set_index('date', drop=False, inplace=True)\n",
    "garment.sample()"
   ]
  },
  {
   "cell_type": "code",
   "execution_count": 26,
   "metadata": {},
   "outputs": [
    {
     "data": {
      "text/html": [
       "<div>\n",
       "<style scoped>\n",
       "    .dataframe tbody tr th:only-of-type {\n",
       "        vertical-align: middle;\n",
       "    }\n",
       "\n",
       "    .dataframe tbody tr th {\n",
       "        vertical-align: top;\n",
       "    }\n",
       "\n",
       "    .dataframe thead th {\n",
       "        text-align: right;\n",
       "    }\n",
       "</style>\n",
       "<table border=\"1\" class=\"dataframe\">\n",
       "  <thead>\n",
       "    <tr style=\"text-align: right;\">\n",
       "      <th></th>\n",
       "      <th>date</th>\n",
       "      <th>quarter</th>\n",
       "      <th>department</th>\n",
       "      <th>day</th>\n",
       "      <th>team</th>\n",
       "      <th>targeted_productivity</th>\n",
       "      <th>smv</th>\n",
       "      <th>wip</th>\n",
       "      <th>over_time</th>\n",
       "      <th>incentive</th>\n",
       "      <th>idle_time</th>\n",
       "      <th>idle_men</th>\n",
       "      <th>no_of_style_change</th>\n",
       "      <th>no_of_workers</th>\n",
       "      <th>actual_productivity</th>\n",
       "      <th>overtime_in_hours</th>\n",
       "      <th>month</th>\n",
       "    </tr>\n",
       "    <tr>\n",
       "      <th>date</th>\n",
       "      <th></th>\n",
       "      <th></th>\n",
       "      <th></th>\n",
       "      <th></th>\n",
       "      <th></th>\n",
       "      <th></th>\n",
       "      <th></th>\n",
       "      <th></th>\n",
       "      <th></th>\n",
       "      <th></th>\n",
       "      <th></th>\n",
       "      <th></th>\n",
       "      <th></th>\n",
       "      <th></th>\n",
       "      <th></th>\n",
       "      <th></th>\n",
       "      <th></th>\n",
       "    </tr>\n",
       "  </thead>\n",
       "  <tbody>\n",
       "    <tr>\n",
       "      <th>2015-02-25</th>\n",
       "      <td>2015-02-25</td>\n",
       "      <td>Quarter4</td>\n",
       "      <td>sewing</td>\n",
       "      <td>Wednesday</td>\n",
       "      <td>9</td>\n",
       "      <td>0.75</td>\n",
       "      <td>18.79</td>\n",
       "      <td>1085.0</td>\n",
       "      <td>6240</td>\n",
       "      <td>56</td>\n",
       "      <td>0.0</td>\n",
       "      <td>0</td>\n",
       "      <td>1</td>\n",
       "      <td>52.0</td>\n",
       "      <td>0.970817</td>\n",
       "      <td>104.0</td>\n",
       "      <td>February</td>\n",
       "    </tr>\n",
       "  </tbody>\n",
       "</table>\n",
       "</div>"
      ],
      "text/plain": [
       "                 date   quarter department        day  team  \\\n",
       "date                                                          \n",
       "2015-02-25 2015-02-25  Quarter4     sewing  Wednesday     9   \n",
       "\n",
       "            targeted_productivity    smv     wip  over_time  incentive  \\\n",
       "date                                                                     \n",
       "2015-02-25                   0.75  18.79  1085.0       6240         56   \n",
       "\n",
       "            idle_time  idle_men  no_of_style_change  no_of_workers  \\\n",
       "date                                                                 \n",
       "2015-02-25        0.0         0                   1           52.0   \n",
       "\n",
       "            actual_productivity  overtime_in_hours     month  \n",
       "date                                                          \n",
       "2015-02-25             0.970817              104.0  February  "
      ]
     },
     "execution_count": 26,
     "metadata": {},
     "output_type": "execute_result"
    }
   ],
   "source": [
    "garment['month'] = garment['date'].dt.month_name()\n",
    "garment.sample()"
   ]
  },
  {
   "cell_type": "code",
   "execution_count": 27,
   "metadata": {},
   "outputs": [
    {
     "data": {
      "image/png": "[encoded data removed]",
      "text/plain": [
       "<Figure size 432x288 with 1 Axes>"
      ]
     },
     "metadata": {},
     "output_type": "display_data"
    }
   ],
   "source": [
    "garment[\"month\"].value_counts().plot(kind='pie', autopct=\"%.1f%%\", pctdistance=1.40, labeldistance=.4)\n",
    "plt.show()"
   ]
  },
  {
   "cell_type": "code",
   "execution_count": 28,
   "metadata": {},
   "outputs": [],
   "source": [
    "cat = [\"quarter\", \"department\", \"day\", \"month\", \"team\", \"no_of_style_change\"]\n",
    "contin = [\"targeted_productivity\", \"smv\", \"wip\", \"over_time\", \"incentive\",\n",
    "        \"idle_time\", \"no_of_workers\", \"actual_productivity\"]"
   ]
  },
  {
   "cell_type": "code",
   "execution_count": 29,
   "metadata": {},
   "outputs": [
    {
     "data": {
      "text/plain": [
       "['targeted_productivity',\n",
       " 'smv',\n",
       " 'wip',\n",
       " 'over_time',\n",
       " 'incentive',\n",
       " 'idle_time',\n",
       " 'no_of_workers',\n",
       " 'actual_productivity']"
      ]
     },
     "execution_count": 29,
     "metadata": {},
     "output_type": "execute_result"
    }
   ],
   "source": [
    "contin"
   ]
  },
  {
   "cell_type": "code",
   "execution_count": 30,
   "metadata": {},
   "outputs": [
    {
     "name": "stderr",
     "output_type": "stream",
     "text": [
      "C:\\Users\\admin\\AppData\\Local\\Temp\\ipykernel_10116\\115922305.py:16: FutureWarning: The frame.append method is deprecated and will be removed from pandas in a future version. Use pandas.concat instead.\n",
      "  df_hist = df_hist.append(last, ignore_index= True)\n",
      "C:\\Users\\admin\\AppData\\Local\\Temp\\ipykernel_10116\\115922305.py:16: FutureWarning: The frame.append method is deprecated and will be removed from pandas in a future version. Use pandas.concat instead.\n",
      "  df_hist = df_hist.append(last, ignore_index= True)\n",
      "C:\\Users\\admin\\AppData\\Local\\Temp\\ipykernel_10116\\115922305.py:16: FutureWarning: The frame.append method is deprecated and will be removed from pandas in a future version. Use pandas.concat instead.\n",
      "  df_hist = df_hist.append(last, ignore_index= True)\n",
      "C:\\Users\\admin\\AppData\\Local\\Temp\\ipykernel_10116\\115922305.py:16: FutureWarning: The frame.append method is deprecated and will be removed from pandas in a future version. Use pandas.concat instead.\n",
      "  df_hist = df_hist.append(last, ignore_index= True)\n",
      "C:\\Users\\admin\\AppData\\Local\\Temp\\ipykernel_10116\\115922305.py:16: FutureWarning: The frame.append method is deprecated and will be removed from pandas in a future version. Use pandas.concat instead.\n",
      "  df_hist = df_hist.append(last, ignore_index= True)\n",
      "C:\\Users\\admin\\AppData\\Local\\Temp\\ipykernel_10116\\115922305.py:16: FutureWarning: The frame.append method is deprecated and will be removed from pandas in a future version. Use pandas.concat instead.\n",
      "  df_hist = df_hist.append(last, ignore_index= True)\n",
      "C:\\Users\\admin\\AppData\\Local\\Temp\\ipykernel_10116\\115922305.py:16: FutureWarning: The frame.append method is deprecated and will be removed from pandas in a future version. Use pandas.concat instead.\n",
      "  df_hist = df_hist.append(last, ignore_index= True)\n",
      "C:\\Users\\admin\\AppData\\Local\\Temp\\ipykernel_10116\\115922305.py:16: FutureWarning: The frame.append method is deprecated and will be removed from pandas in a future version. Use pandas.concat instead.\n",
      "  df_hist = df_hist.append(last, ignore_index= True)\n"
     ]
    },
    {
     "data": {
      "image/png": "[encoded data removed]",
      "text/plain": [
       "<Figure size 1080x1080 with 8 Axes>"
      ]
     },
     "metadata": {
      "needs_background": "light"
     },
     "output_type": "display_data"
    }
   ],
   "source": [
    "fig,axes = plt.subplots(nrows=4, ncols=2,figsize=(15,15))\n",
    "\n",
    "for i, ax in enumerate(axes.ravel()):\n",
    "    (n, bins, patches) = ax.hist(garment[contin[i]], bins= 10)\n",
    "    ax.set_title(f\" Distribution of { title(contin[i])}\")\n",
    "    ax.set_ylabel(\"frequency\")\n",
    "    \n",
    "    #creating a dataframe with the values of bin edges\n",
    "    df_hist = pd.DataFrame(data=n, columns= ['bin_values'])\n",
    "    df_hist['left_bin_edge'] = bins[0: -1]\n",
    "    df_hist\n",
    "    last = {\n",
    "        'bin_values' : 0,\n",
    "        'left_bin_edge' : bins[-1]\n",
    "    }\n",
    "    df_hist = df_hist.append(last, ignore_index= True)\n",
    "    \n",
    "    #to print observations below histogram\n",
    "    for idx in df_hist.index:\n",
    "        if df_hist.loc[idx, 'bin_values'] == df_hist['bin_values'].max():\n",
    "            left_edge = df_hist.loc[idx, 'left_bin_edge']\n",
    "            right_lim = df_hist.loc[idx+1, 'left_bin_edge']\n",
    "            \n",
    "            if contin[i] == 'no_of_workers' or contin[i] == 'idle_men':\n",
    "                ax.set_xlabel(f''' {title(contin[i])}\n",
    "                            Most '{contin[i]}' values fell in the { int(left_edge)} to {int(right_lim)}''')\n",
    "            else:\n",
    "                ax.set_xlabel(f'''{title(contin[i])}\n",
    "                            Most '{contin[i]}' values fell in the { round(left_edge,2)} to { round(right_lim,2)} bin ''')\n",
    "fig.tight_layout()\n",
    "plt.subplots_adjust(top=1.5)\n",
    "plt.show()"
   ]
  },
  {
   "cell_type": "code",
   "execution_count": 31,
   "metadata": {},
   "outputs": [
    {
     "data": {
      "image/png": "[encoded data removed]",
      "text/plain": [
       "<Figure size 1080x576 with 6 Axes>"
      ]
     },
     "metadata": {
      "needs_background": "light"
     },
     "output_type": "display_data"
    }
   ],
   "source": [
    "fig, axes = plt.subplots(nrows=2, ncols=3, figsize=(15,8))\n",
    "\n",
    "for i, ax in enumerate(axes.ravel()):\n",
    "    if i < 5:\n",
    "        sns.countplot(x=garment[cat[i]], ax=ax, color=\"#408E91\")\n",
    "        ax.set_title(f\" Distribution of {title(cat[i])}\")\n",
    "        ax.set_xlabel(title(cat[i]))\n",
    "        ax.set_ylabel(\"count\")\n",
    "\n",
    "fig.tight_layout()\n",
    "plt.subplots_adjust(top=1.5)\n",
    "plt.show()"
   ]
  },
  {
   "attachments": {},
   "cell_type": "markdown",
   "metadata": {},
   "source": [
    "Quarter one had the most records in the dataset.\n",
    "\n",
    "There were more records related to the sewing department than the finishing department.\n",
    "\n",
    "The day of the week with the most records is Wednesday.\n",
    "\n",
    "Teams 2 and 8 appeared more frequently than other teams in the dataset.\n",
    "\n",
    "For most records, the number of changes in the style of a particular product was 0."
   ]
  },
  {
   "attachments": {},
   "cell_type": "markdown",
   "metadata": {},
   "source": [
    "Target vs Actual"
   ]
  },
  {
   "cell_type": "code",
   "execution_count": 32,
   "metadata": {},
   "outputs": [
    {
     "data": {
      "image/png": "[encoded data removed]",
      "text/plain": [
       "<Figure size 864x504 with 1 Axes>"
      ]
     },
     "metadata": {
      "needs_background": "light"
     },
     "output_type": "display_data"
    }
   ],
   "source": [
    "fig_dims = (12, 7)\n",
    "fig, ax = plt.subplots(figsize=fig_dims)\n",
    "sns.histplot(data=garment[['actual_productivity']], ax=ax, color='green')\n",
    "ax.set_xlabel('Actual Productivity')\n",
    "ax.set_ylabel('Frequency')\n",
    "ax.set_title('Distribution of Actual Productivity')\n",
    "ax.grid(True)\n",
    "plt.show()"
   ]
  },
  {
   "attachments": {},
   "cell_type": "markdown",
   "metadata": {},
   "source": [
    "Comparison between Actual Productivity and incentives over time"
   ]
  },
  {
   "cell_type": "code",
   "execution_count": 33,
   "metadata": {},
   "outputs": [],
   "source": [
    "garment.reset_index(drop=True, inplace=True)"
   ]
  },
  {
   "cell_type": "code",
   "execution_count": 34,
   "metadata": {},
   "outputs": [
    {
     "data": {
      "text/html": [
       "<div>\n",
       "<style scoped>\n",
       "    .dataframe tbody tr th:only-of-type {\n",
       "        vertical-align: middle;\n",
       "    }\n",
       "\n",
       "    .dataframe tbody tr th {\n",
       "        vertical-align: top;\n",
       "    }\n",
       "\n",
       "    .dataframe thead th {\n",
       "        text-align: right;\n",
       "    }\n",
       "</style>\n",
       "<table border=\"1\" class=\"dataframe\">\n",
       "  <thead>\n",
       "    <tr style=\"text-align: right;\">\n",
       "      <th></th>\n",
       "      <th>date</th>\n",
       "      <th>quarter</th>\n",
       "      <th>department</th>\n",
       "      <th>day</th>\n",
       "      <th>team</th>\n",
       "      <th>targeted_productivity</th>\n",
       "      <th>smv</th>\n",
       "      <th>wip</th>\n",
       "      <th>over_time</th>\n",
       "      <th>incentive</th>\n",
       "      <th>idle_time</th>\n",
       "      <th>idle_men</th>\n",
       "      <th>no_of_style_change</th>\n",
       "      <th>no_of_workers</th>\n",
       "      <th>actual_productivity</th>\n",
       "      <th>overtime_in_hours</th>\n",
       "      <th>month</th>\n",
       "    </tr>\n",
       "  </thead>\n",
       "  <tbody>\n",
       "    <tr>\n",
       "      <th>15</th>\n",
       "      <td>2015-01-01</td>\n",
       "      <td>Quarter1</td>\n",
       "      <td>finishing</td>\n",
       "      <td>Thursday</td>\n",
       "      <td>4</td>\n",
       "      <td>0.75</td>\n",
       "      <td>3.94</td>\n",
       "      <td>0.0</td>\n",
       "      <td>2160</td>\n",
       "      <td>0</td>\n",
       "      <td>0.0</td>\n",
       "      <td>0</td>\n",
       "      <td>0</td>\n",
       "      <td>18.0</td>\n",
       "      <td>0.593056</td>\n",
       "      <td>36.0</td>\n",
       "      <td>January</td>\n",
       "    </tr>\n",
       "    <tr>\n",
       "      <th>954</th>\n",
       "      <td>2015-02-26</td>\n",
       "      <td>Quarter4</td>\n",
       "      <td>sewing</td>\n",
       "      <td>Thursday</td>\n",
       "      <td>2</td>\n",
       "      <td>0.70</td>\n",
       "      <td>30.33</td>\n",
       "      <td>398.0</td>\n",
       "      <td>6960</td>\n",
       "      <td>0</td>\n",
       "      <td>0.0</td>\n",
       "      <td>0</td>\n",
       "      <td>1</td>\n",
       "      <td>58.0</td>\n",
       "      <td>0.662379</td>\n",
       "      <td>116.0</td>\n",
       "      <td>February</td>\n",
       "    </tr>\n",
       "    <tr>\n",
       "      <th>294</th>\n",
       "      <td>2015-01-17</td>\n",
       "      <td>Quarter3</td>\n",
       "      <td>sewing</td>\n",
       "      <td>Saturday</td>\n",
       "      <td>3</td>\n",
       "      <td>0.60</td>\n",
       "      <td>22.52</td>\n",
       "      <td>1140.0</td>\n",
       "      <td>10170</td>\n",
       "      <td>30</td>\n",
       "      <td>0.0</td>\n",
       "      <td>0</td>\n",
       "      <td>0</td>\n",
       "      <td>57.0</td>\n",
       "      <td>0.600292</td>\n",
       "      <td>169.5</td>\n",
       "      <td>January</td>\n",
       "    </tr>\n",
       "  </tbody>\n",
       "</table>\n",
       "</div>"
      ],
      "text/plain": [
       "          date   quarter department       day  team  targeted_productivity  \\\n",
       "15  2015-01-01  Quarter1  finishing  Thursday     4                   0.75   \n",
       "954 2015-02-26  Quarter4     sewing  Thursday     2                   0.70   \n",
       "294 2015-01-17  Quarter3     sewing  Saturday     3                   0.60   \n",
       "\n",
       "       smv     wip  over_time  incentive  idle_time  idle_men  \\\n",
       "15    3.94     0.0       2160          0        0.0         0   \n",
       "954  30.33   398.0       6960          0        0.0         0   \n",
       "294  22.52  1140.0      10170         30        0.0         0   \n",
       "\n",
       "     no_of_style_change  no_of_workers  actual_productivity  \\\n",
       "15                    0           18.0             0.593056   \n",
       "954                   1           58.0             0.662379   \n",
       "294                   0           57.0             0.600292   \n",
       "\n",
       "     overtime_in_hours     month  \n",
       "15                36.0   January  \n",
       "954              116.0  February  \n",
       "294              169.5   January  "
      ]
     },
     "execution_count": 34,
     "metadata": {},
     "output_type": "execute_result"
    }
   ],
   "source": [
    "garment.sample(3)"
   ]
  },
  {
   "cell_type": "code",
   "execution_count": 35,
   "metadata": {},
   "outputs": [
    {
     "data": {
      "image/png": "[encoded data removed]",
      "text/plain": [
       "<Figure size 720x432 with 2 Axes>"
      ]
     },
     "metadata": {
      "needs_background": "light"
     },
     "output_type": "display_data"
    }
   ],
   "source": [
    "ap_incentive = garment[garment.date <= pd.to_datetime('2015-03-08')]\n",
    "ap_incentive\n",
    "plt.figure(figsize=(10,6))\n",
    "\n",
    "line1 = sns.lineplot(x='date', y='actual_productivity', data=ap_incentive, ci= None, color='orange', legend=False, label = 'actual productivity' )\n",
    "ax2 = line1.twinx()\n",
    "\n",
    "line2 = sns.lineplot(x='date', y='incentive', data=ap_incentive, ci=None, color='darkgreen',ax=ax2, legend=False, label = 'incentive')\n",
    "line1.figure.legend()\n",
    "\n",
    "plt.title(\"Incentives and Actual Productivity Over Time\")\n",
    "plt.show()"
   ]
  },
  {
   "attachments": {},
   "cell_type": "markdown",
   "metadata": {},
   "source": [
    "Incentives and actual productivity show similar trends, with periods of low incentives generally coinciding with periods of low actual productivity, and peaks in productivity generally coinciding with peaks in incentives"
   ]
  },
  {
   "attachments": {},
   "cell_type": "markdown",
   "metadata": {},
   "source": [
    "Comparison between Actual and Targeted Productivity Over Time"
   ]
  },
  {
   "cell_type": "code",
   "execution_count": 36,
   "metadata": {},
   "outputs": [
    {
     "data": {
      "image/png": "[encoded data removed]",
      "text/plain": [
       "<Figure size 720x432 with 1 Axes>"
      ]
     },
     "metadata": {
      "needs_background": "light"
     },
     "output_type": "display_data"
    }
   ],
   "source": [
    "plt.figure(figsize=(10,6))\n",
    "sns.lineplot(x='date', y='actual_productivity', data=garment, ci=None, color='orange')\n",
    "sns.lineplot(x='date', y='targeted_productivity', data=garment, ci=None, color='blue')\n",
    "\n",
    "# Add axis labels and ticks\n",
    "plt.xlabel('Date')\n",
    "plt.ylabel('Productivity')\n",
    "plt.xticks(rotation=45)\n",
    "\n",
    "# Use a consistent color scheme\n",
    "plt.legend(labels=['Actual Productivity', 'Targeted Productivity'], loc='upper left')\n",
    "plt.title('Comparison of Actual and Targeted Productivity over Time')\n",
    "\n",
    "# Add comments\n",
    "plt.show()"
   ]
  },
  {
   "attachments": {},
   "cell_type": "markdown",
   "metadata": {},
   "source": [
    "Actual productivity generally exceeded targeted productivity except from mid February to beginning of March where targets were not being met.\n",
    "We can observe the same in the graph above whereby the actual productivity had a big difference from 25th January to 8th February. There was a massive drop from 8th February to 8th March in the actual productivity but however, the targeted productivity was still raging at a moderate level. Therefore, we can still assume that the actual productivity is higher than the targeted productivity based on the graph. Although the actual productivity seems to be more volatile compared to the targeted productivity, the graph gives us a clear indication that the actual productivity was higher than the targeted productivity on many occasions within the timeframe."
   ]
  },
  {
   "cell_type": "code",
   "execution_count": 37,
   "metadata": {},
   "outputs": [
    {
     "data": {
      "image/png": "[encoded data removed]",
      "text/plain": [
       "<Figure size 720x576 with 1 Axes>"
      ]
     },
     "metadata": {
      "needs_background": "light"
     },
     "output_type": "display_data"
    }
   ],
   "source": [
    "# Plot the actual productivity lines for each department\n",
    "plt.figure(figsize=(10,8))\n",
    "sns.lineplot(x='date', y='actual_productivity', hue='department', style='department', data=garment, ci=None, markers=True, dashes=False, palette='Set2')\n",
    "\n",
    "# Add a legend\n",
    "plt.legend(title='Department', loc='upper left', bbox_to_anchor=(1, 1))\n",
    "\n",
    "# Add a title\n",
    "plt.title('Actual Productivity per Department over Time')\n",
    "\n",
    "# Add comments\n",
    "plt.show()"
   ]
  },
  {
   "attachments": {},
   "cell_type": "markdown",
   "metadata": {},
   "source": [
    "The finishing department generally had higher actual productivity than the sewing department."
   ]
  },
  {
   "attachments": {},
   "cell_type": "markdown",
   "metadata": {},
   "source": [
    "Idle time by department"
   ]
  },
  {
   "cell_type": "code",
   "execution_count": 38,
   "metadata": {},
   "outputs": [
    {
     "data": {
      "image/png": "[encoded data removed]",
      "text/plain": [
       "<Figure size 576x432 with 1 Axes>"
      ]
     },
     "metadata": {},
     "output_type": "display_data"
    }
   ],
   "source": [
    "sns.set(style='whitegrid')\n",
    "fig, ax = plt.subplots(figsize=(8,6))\n",
    "sns.barplot(x='department', y='idle_time', hue='team', data=garment, ci=None, ax=ax)\n",
    "ax.set_title(\"Idle time by department\")\n",
    "\n",
    "for p in ax.containers:\n",
    "    ax.bar_label(p, label_type='edge',labels=[f'{x:.2f}' for x in p.datavalues], fontsize=12)\n",
    "plt.show()"
   ]
  },
  {
   "attachments": {},
   "cell_type": "markdown",
   "metadata": {},
   "source": [
    "Only the sewing department had idle time, with team 8's sewing division recording the highest idle time"
   ]
  },
  {
   "attachments": {},
   "cell_type": "markdown",
   "metadata": {},
   "source": [
    "Idle men by department"
   ]
  },
  {
   "cell_type": "code",
   "execution_count": 39,
   "metadata": {},
   "outputs": [
    {
     "data": {
      "image/png": "[encoded data removed]",
      "text/plain": [
       "<Figure size 576x432 with 1 Axes>"
      ]
     },
     "metadata": {},
     "output_type": "display_data"
    }
   ],
   "source": [
    "sns.set(style='whitegrid')\n",
    "fig, ax = plt.subplots(figsize=(8,6))\n",
    "sns.barplot(x='department', y='idle_men', hue='team', data=garment, ci=None, estimator=sum, ax=ax)\n",
    "ax.set_title(\"Idle men by department\")\n",
    "\n",
    "for p in ax.containers:\n",
    "    ax.bar_label(p, label_type='edge', fontsize=12)\n",
    "plt.show()"
   ]
  },
  {
   "attachments": {},
   "cell_type": "markdown",
   "metadata": {},
   "source": [
    "Only the sewing department had idle men, with team 7's sewing division recording the highest number of idle men."
   ]
  },
  {
   "attachments": {},
   "cell_type": "markdown",
   "metadata": {},
   "source": [
    "Department and team with more style changes"
   ]
  },
  {
   "cell_type": "code",
   "execution_count": 40,
   "metadata": {},
   "outputs": [
    {
     "data": {
      "image/png": "[encoded data removed]",
      "text/plain": [
       "<Figure size 576x432 with 1 Axes>"
      ]
     },
     "metadata": {},
     "output_type": "display_data"
    }
   ],
   "source": [
    "sns.set(style='whitegrid')\n",
    "\n",
    "fig, ax = plt.subplots(figsize=(8,6))\n",
    "\n",
    "sns.barplot(x='department', y='no_of_style_change', hue='team', data=garment, ci=None, estimator=sum, ax=ax)\n",
    "\n",
    "ax.set_title(\"Total style changes by department and team\", fontsize=16, fontweight='bold')\n",
    "ax.set_xlabel(\"Department\", fontsize=14)\n",
    "ax.set_ylabel(\"Number of Style Changes\", fontsize=14)\n",
    "\n",
    "# Add data labels to the bars\n",
    "for p in ax.containers:\n",
    "    ax.bar_label(p, label_type='edge', fontsize=12)\n",
    "\n",
    "plt.show()"
   ]
  },
  {
   "attachments": {},
   "cell_type": "markdown",
   "metadata": {},
   "source": [
    "Only the sewing department had style changes, with team 8's sewing division recording the highest number of style changes."
   ]
  },
  {
   "attachments": {},
   "cell_type": "markdown",
   "metadata": {},
   "source": [
    "Average Productivity of each team"
   ]
  },
  {
   "cell_type": "code",
   "execution_count": 41,
   "metadata": {},
   "outputs": [
    {
     "data": {
      "image/png": "[encoded data removed]",
      "text/plain": [
       "<Figure size 771.85x360 with 1 Axes>"
      ]
     },
     "metadata": {},
     "output_type": "display_data"
    }
   ],
   "source": [
    "sns.set_style('whitegrid')\n",
    "\n",
    "# Create the plot using catplot and get the axis object\n",
    "g = sns.catplot(data=garment, x='department', y='actual_productivity', hue='team', ci=None, kind='bar', height=5, aspect=2)\n",
    "\n",
    "# Set the title, labels, and legend\n",
    "plt.title(\"Average Actual Productivity per Department\", fontsize=16, fontweight='bold')\n",
    "plt.xlabel(\"Department\", fontsize=14)\n",
    "plt.ylabel(\"Actual Productivity\", fontsize=14)\n",
    "plt.legend(title=\"Team\", title_fontsize=12, fontsize=12)\n",
    "\n",
    "# Add data labels to the bars\n",
    "ax = g.ax\n",
    "for p in ax.containers:\n",
    "    ax.bar_label(p, label_type='edge', labels=[f'{x:.2f}' for x in p.datavalues], fontsize=10)\n",
    "\n",
    "plt.show()"
   ]
  },
  {
   "attachments": {},
   "cell_type": "markdown",
   "metadata": {},
   "source": [
    "Team 1's sewing division had the highest average actual productivity in the sewing department, while in the finishing department team 3's finishing division had the highest.\n",
    "\n",
    "Team 5's sewing division had the lowest average actual productivity in the sewing department, while in the finishing department team 6's finishing division had the highest."
   ]
  },
  {
   "attachments": {},
   "cell_type": "markdown",
   "metadata": {},
   "source": [
    "Outlier Removel and Detection"
   ]
  },
  {
   "cell_type": "code",
   "execution_count": 42,
   "metadata": {},
   "outputs": [
    {
     "data": {
      "image/png": "[encoded data removed]",
      "text/plain": [
       "<Figure size 720x360 with 1 Axes>"
      ]
     },
     "metadata": {},
     "output_type": "display_data"
    }
   ],
   "source": [
    "plt.figure(figsize=(10, 5))\n",
    "p = sns.boxplot(data=garment, orient='v', width=0.8)\n",
    "plt.xticks(rotation=90)\n",
    "plt.xlabel('Variable Name', fontsize=12)\n",
    "plt.ylabel('Value', fontsize=12)\n",
    "plt.title('Boxplot of Garment Dataset', fontsize=14)\n",
    "plt.tight_layout()\n",
    "plt.show()"
   ]
  },
  {
   "cell_type": "code",
   "execution_count": 43,
   "metadata": {},
   "outputs": [
    {
     "name": "stderr",
     "output_type": "stream",
     "text": [
      "C:\\Users\\admin\\AppData\\Local\\Temp\\ipykernel_10116\\798929466.py:1: FutureWarning: Dropping of nuisance columns in DataFrame reductions (with 'numeric_only=None') is deprecated; in a future version this will raise TypeError.  Select only valid columns before calling the reduction.\n",
      "  garment.skew().sort_values(ascending=True)\n"
     ]
    },
    {
     "data": {
      "text/plain": [
       "targeted_productivity    -2.144150\n",
       "actual_productivity      -0.807492\n",
       "no_of_workers            -0.112274\n",
       "team                      0.009848\n",
       "smv                       0.405937\n",
       "over_time                 0.673287\n",
       "overtime_in_hours         0.673287\n",
       "no_of_style_change        2.942506\n",
       "idle_men                  9.855079\n",
       "wip                      10.852386\n",
       "incentive                15.790746\n",
       "idle_time                20.545425\n",
       "dtype: float64"
      ]
     },
     "execution_count": 43,
     "metadata": {},
     "output_type": "execute_result"
    }
   ],
   "source": [
    "garment.skew().sort_values(ascending=True)"
   ]
  },
  {
   "cell_type": "code",
   "execution_count": 44,
   "metadata": {},
   "outputs": [],
   "source": [
    "garment.drop(columns=['idle_men'], inplace=True, axis=1)\n",
    "garment.drop(columns=['idle_time'], inplace=True, axis=1)\n",
    "garment.drop(columns=['overtime_in_hours'], inplace=True, axis=1)"
   ]
  },
  {
   "cell_type": "code",
   "execution_count": 45,
   "metadata": {},
   "outputs": [],
   "source": [
    "Q1 = garment.incentive.quantile(0.25)\n",
    "Q3 = garment.incentive.quantile(0.75)\n",
    "IQR = Q3 - Q1\n",
    "lower_limit = Q1 - 1.5*IQR\n",
    "upper_limit = Q3 + 1.5*IQR\n",
    "lower_limit, upper_limit\n",
    "garment[(garment.incentive<lower_limit)|(garment.incentive>upper_limit)]\n",
    "garment = garment[(garment.incentive>lower_limit)&(garment.incentive<upper_limit)]"
   ]
  },
  {
   "cell_type": "code",
   "execution_count": 46,
   "metadata": {},
   "outputs": [],
   "source": [
    "Q1 = garment.targeted_productivity.quantile(0.25)\n",
    "Q3 = garment.targeted_productivity.quantile(0.75)\n",
    "IQR = Q3 - Q1\n",
    "lower_limit = Q1 - 1.5*IQR\n",
    "upper_limit = Q3 + 1.5*IQR\n",
    "lower_limit, upper_limit\n",
    "garment[(garment.targeted_productivity<lower_limit)|(garment.targeted_productivity>upper_limit)]\n",
    "garment = garment[(garment.targeted_productivity>lower_limit)&(garment.targeted_productivity<upper_limit)]"
   ]
  },
  {
   "cell_type": "code",
   "execution_count": 47,
   "metadata": {},
   "outputs": [],
   "source": [
    "Q1 = garment.wip.quantile(0.25)\n",
    "Q3 = garment.wip.quantile(0.75)\n",
    "IQR = Q3 - Q1\n",
    "lower_limit = Q1 - 1.5*IQR\n",
    "upper_limit = Q3 + 1.5*IQR\n",
    "lower_limit, upper_limit\n",
    "garment[(garment.wip<lower_limit)|(garment.wip>upper_limit)]\n",
    "garment = garment[(garment.wip>lower_limit)&(garment.wip<upper_limit)]"
   ]
  },
  {
   "attachments": {},
   "cell_type": "markdown",
   "metadata": {},
   "source": [
    "Removing Outler from Incentive column"
   ]
  },
  {
   "cell_type": "code",
   "execution_count": 48,
   "metadata": {},
   "outputs": [
    {
     "name": "stderr",
     "output_type": "stream",
     "text": [
      "C:\\Users\\admin\\AppData\\Local\\Temp\\ipykernel_10116\\2662259393.py:1: FutureWarning: Dropping of nuisance columns in DataFrame reductions (with 'numeric_only=None') is deprecated; in a future version this will raise TypeError.  Select only valid columns before calling the reduction.\n",
      "  garment.skew().sort_values(ascending=True)\n"
     ]
    },
    {
     "data": {
      "text/plain": [
       "targeted_productivity   -0.960831\n",
       "actual_productivity     -0.889850\n",
       "no_of_workers           -0.093453\n",
       "team                    -0.010025\n",
       "wip                      0.321918\n",
       "smv                      0.419939\n",
       "over_time                0.526107\n",
       "incentive                0.797690\n",
       "no_of_style_change       3.092460\n",
       "dtype: float64"
      ]
     },
     "execution_count": 48,
     "metadata": {},
     "output_type": "execute_result"
    }
   ],
   "source": [
    "garment.skew().sort_values(ascending=True)\n"
   ]
  },
  {
   "cell_type": "code",
   "execution_count": 49,
   "metadata": {},
   "outputs": [
    {
     "data": {
      "image/png": "[encoded data removed]",
      "text/plain": [
       "<Figure size 1080x576 with 2 Axes>"
      ]
     },
     "metadata": {},
     "output_type": "display_data"
    }
   ],
   "source": [
    "plt.figure(figsize=(15,8))\n",
    "sns.heatmap(garment.corr(),annot=True)\n",
    "plt.show()"
   ]
  },
  {
   "attachments": {},
   "cell_type": "markdown",
   "metadata": {},
   "source": [
    "-Actual productivity, the target column, has the highest correlation (moderate positive correlation of 0.38) with targeted productivity.\n",
    "\n",
    "-Strong positive correlations(>0.5):\n",
    "\n",
    "standard minute value has strong positive correlations of 0.91 with number of workers.\n",
    "standard minute value has strong positive correlations of 0.73 with wip (working in progress).\n",
    "standard minute value has strong positive correlations of 0.62 with incentive.\n",
    "standard minute value has strong positive correlations of 0.68 with Over time.\n",
    "Working in Progress has strong positive correlations of 0.82 with number of workers.\n",
    "Working in Progress has strong positive correlations of 0. 75 with Incentives.\n",
    "Working in Progress has strong positive correlations of 0. 65 with Over time.\n",
    "Over time has strong positive correlations of 0. 74 with No of workers.\n",
    "Over time has strong positive correlations of 0. 56 with Incentive.\n",
    "Incentive has strong positive correlations of 0. 72 with No of Workers.\n"
   ]
  },
  {
   "cell_type": "code",
   "execution_count": 50,
   "metadata": {},
   "outputs": [
    {
     "name": "stdout",
     "output_type": "stream",
     "text": [
      "          date  targeted_productivity    smv     wip  over_time  incentive  \\\n",
      "298 2015-01-17                   0.80   4.15     0.0       1260          0   \n",
      "553 2015-02-01                   0.75  29.12  1282.0       6960         45   \n",
      "637 2015-02-07                   0.80  22.52  1186.0       6900        113   \n",
      "283 2015-01-17                   0.80  11.41  1067.0       5490         63   \n",
      "\n",
      "     no_of_workers  actual_productivity  quarter_Quarter1  quarter_Quarter2  \\\n",
      "298            7.0             0.313853                 0                 0   \n",
      "553           58.0             0.750593                 1                 0   \n",
      "637           58.0             1.000019                 1                 0   \n",
      "283           31.0             0.800344                 0                 0   \n",
      "\n",
      "     ...  team_6  team_7  team_8  team_9  team_10  team_11  team_12  \\\n",
      "298  ...       0       0       0       0        0        1        0   \n",
      "553  ...       0       0       0       1        0        0        0   \n",
      "637  ...       0       0       0       0        0        0        0   \n",
      "283  ...       1       0       0       0        0        0        0   \n",
      "\n",
      "     no_of_style_change_0  no_of_style_change_1  no_of_style_change_2  \n",
      "298                     1                     0                     0  \n",
      "553                     1                     0                     0  \n",
      "637                     1                     0                     0  \n",
      "283                     1                     0                     0  \n",
      "\n",
      "[4 rows x 38 columns]\n"
     ]
    }
   ],
   "source": [
    "garment = pd.get_dummies(garment, columns=cat)\n",
    "print(garment.sample(4))"
   ]
  },
  {
   "cell_type": "code",
   "execution_count": 51,
   "metadata": {},
   "outputs": [
    {
     "data": {
      "text/html": [
       "<div>\n",
       "<style scoped>\n",
       "    .dataframe tbody tr th:only-of-type {\n",
       "        vertical-align: middle;\n",
       "    }\n",
       "\n",
       "    .dataframe tbody tr th {\n",
       "        vertical-align: top;\n",
       "    }\n",
       "\n",
       "    .dataframe thead th {\n",
       "        text-align: right;\n",
       "    }\n",
       "</style>\n",
       "<table border=\"1\" class=\"dataframe\">\n",
       "  <thead>\n",
       "    <tr style=\"text-align: right;\">\n",
       "      <th></th>\n",
       "      <th>date</th>\n",
       "      <th>targeted_productivity</th>\n",
       "      <th>smv</th>\n",
       "      <th>wip</th>\n",
       "      <th>over_time</th>\n",
       "      <th>incentive</th>\n",
       "      <th>no_of_workers</th>\n",
       "      <th>actual_productivity</th>\n",
       "      <th>quarter_Quarter1</th>\n",
       "      <th>quarter_Quarter2</th>\n",
       "      <th>...</th>\n",
       "      <th>team_6</th>\n",
       "      <th>team_7</th>\n",
       "      <th>team_8</th>\n",
       "      <th>team_9</th>\n",
       "      <th>team_10</th>\n",
       "      <th>team_11</th>\n",
       "      <th>team_12</th>\n",
       "      <th>no_of_style_change_0</th>\n",
       "      <th>no_of_style_change_1</th>\n",
       "      <th>no_of_style_change_2</th>\n",
       "    </tr>\n",
       "  </thead>\n",
       "  <tbody>\n",
       "    <tr>\n",
       "      <th>59</th>\n",
       "      <td>2015-01-04</td>\n",
       "      <td>0.70</td>\n",
       "      <td>45.67</td>\n",
       "      <td>884.0</td>\n",
       "      <td>6960</td>\n",
       "      <td>26</td>\n",
       "      <td>58.0</td>\n",
       "      <td>0.603432</td>\n",
       "      <td>1</td>\n",
       "      <td>0</td>\n",
       "      <td>...</td>\n",
       "      <td>0</td>\n",
       "      <td>0</td>\n",
       "      <td>0</td>\n",
       "      <td>0</td>\n",
       "      <td>0</td>\n",
       "      <td>0</td>\n",
       "      <td>0</td>\n",
       "      <td>1</td>\n",
       "      <td>0</td>\n",
       "      <td>0</td>\n",
       "    </tr>\n",
       "    <tr>\n",
       "      <th>782</th>\n",
       "      <td>2015-02-15</td>\n",
       "      <td>0.80</td>\n",
       "      <td>22.52</td>\n",
       "      <td>12.0</td>\n",
       "      <td>6900</td>\n",
       "      <td>0</td>\n",
       "      <td>58.0</td>\n",
       "      <td>0.432123</td>\n",
       "      <td>0</td>\n",
       "      <td>0</td>\n",
       "      <td>...</td>\n",
       "      <td>0</td>\n",
       "      <td>0</td>\n",
       "      <td>0</td>\n",
       "      <td>0</td>\n",
       "      <td>0</td>\n",
       "      <td>0</td>\n",
       "      <td>0</td>\n",
       "      <td>1</td>\n",
       "      <td>0</td>\n",
       "      <td>0</td>\n",
       "    </tr>\n",
       "    <tr>\n",
       "      <th>991</th>\n",
       "      <td>2015-03-01</td>\n",
       "      <td>0.75</td>\n",
       "      <td>18.79</td>\n",
       "      <td>895.0</td>\n",
       "      <td>6240</td>\n",
       "      <td>34</td>\n",
       "      <td>52.0</td>\n",
       "      <td>0.750396</td>\n",
       "      <td>1</td>\n",
       "      <td>0</td>\n",
       "      <td>...</td>\n",
       "      <td>0</td>\n",
       "      <td>0</td>\n",
       "      <td>0</td>\n",
       "      <td>1</td>\n",
       "      <td>0</td>\n",
       "      <td>0</td>\n",
       "      <td>0</td>\n",
       "      <td>1</td>\n",
       "      <td>0</td>\n",
       "      <td>0</td>\n",
       "    </tr>\n",
       "    <tr>\n",
       "      <th>537</th>\n",
       "      <td>2015-01-31</td>\n",
       "      <td>0.70</td>\n",
       "      <td>50.89</td>\n",
       "      <td>282.0</td>\n",
       "      <td>5880</td>\n",
       "      <td>56</td>\n",
       "      <td>59.0</td>\n",
       "      <td>0.656764</td>\n",
       "      <td>0</td>\n",
       "      <td>0</td>\n",
       "      <td>...</td>\n",
       "      <td>0</td>\n",
       "      <td>0</td>\n",
       "      <td>0</td>\n",
       "      <td>0</td>\n",
       "      <td>0</td>\n",
       "      <td>0</td>\n",
       "      <td>0</td>\n",
       "      <td>1</td>\n",
       "      <td>0</td>\n",
       "      <td>0</td>\n",
       "    </tr>\n",
       "  </tbody>\n",
       "</table>\n",
       "<p>4 rows × 38 columns</p>\n",
       "</div>"
      ],
      "text/plain": [
       "          date  targeted_productivity    smv    wip  over_time  incentive  \\\n",
       "59  2015-01-04                   0.70  45.67  884.0       6960         26   \n",
       "782 2015-02-15                   0.80  22.52   12.0       6900          0   \n",
       "991 2015-03-01                   0.75  18.79  895.0       6240         34   \n",
       "537 2015-01-31                   0.70  50.89  282.0       5880         56   \n",
       "\n",
       "     no_of_workers  actual_productivity  quarter_Quarter1  quarter_Quarter2  \\\n",
       "59            58.0             0.603432                 1                 0   \n",
       "782           58.0             0.432123                 0                 0   \n",
       "991           52.0             0.750396                 1                 0   \n",
       "537           59.0             0.656764                 0                 0   \n",
       "\n",
       "     ...  team_6  team_7  team_8  team_9  team_10  team_11  team_12  \\\n",
       "59   ...       0       0       0       0        0        0        0   \n",
       "782  ...       0       0       0       0        0        0        0   \n",
       "991  ...       0       0       0       1        0        0        0   \n",
       "537  ...       0       0       0       0        0        0        0   \n",
       "\n",
       "     no_of_style_change_0  no_of_style_change_1  no_of_style_change_2  \n",
       "59                      1                     0                     0  \n",
       "782                     1                     0                     0  \n",
       "991                     1                     0                     0  \n",
       "537                     1                     0                     0  \n",
       "\n",
       "[4 rows x 38 columns]"
      ]
     },
     "execution_count": 51,
     "metadata": {},
     "output_type": "execute_result"
    }
   ],
   "source": [
    "garment.sample(4)"
   ]
  },
  {
   "cell_type": "code",
   "execution_count": 52,
   "metadata": {},
   "outputs": [
    {
     "name": "stdout",
     "output_type": "stream",
     "text": [
      "Index(['targeted_productivity', 'smv', 'wip', 'over_time', 'incentive',\n",
      "       'no_of_workers', 'actual_productivity', 'quarter_Quarter1',\n",
      "       'quarter_Quarter2', 'quarter_Quarter3', 'quarter_Quarter4',\n",
      "       'department_finishing', 'department_sewing', 'day_Monday',\n",
      "       'day_Saturday', 'day_Sunday', 'day_Thursday', 'day_Tuesday',\n",
      "       'day_Wednesday', 'team_1', 'team_2', 'team_3', 'team_4', 'team_5',\n",
      "       'team_6', 'team_7', 'team_8', 'team_9', 'team_10', 'team_11', 'team_12',\n",
      "       'no_of_style_change_0', 'no_of_style_change_1', 'no_of_style_change_2'],\n",
      "      dtype='object')\n"
     ]
    }
   ],
   "source": [
    "garment.drop(columns=['date','month_February', 'month_January', 'month_March'], inplace=True, axis=1)\n",
    "\n",
    "print(garment.columns)"
   ]
  },
  {
   "cell_type": "code",
   "execution_count": 53,
   "metadata": {},
   "outputs": [
    {
     "data": {
      "text/plain": [
       "((1098, 33), (1098,))"
      ]
     },
     "execution_count": 53,
     "metadata": {},
     "output_type": "execute_result"
    }
   ],
   "source": [
    "x = garment.drop(columns=['actual_productivity'], axis=1)\n",
    "y = garment.actual_productivity\n",
    "x.shape, y.shape"
   ]
  },
  {
   "cell_type": "code",
   "execution_count": 54,
   "metadata": {},
   "outputs": [],
   "source": [
    "from sklearn.preprocessing import StandardScaler\n",
    "scaler = StandardScaler()"
   ]
  },
  {
   "cell_type": "code",
   "execution_count": 55,
   "metadata": {},
   "outputs": [
    {
     "data": {
      "text/html": [
       "<div>\n",
       "<style scoped>\n",
       "    .dataframe tbody tr th:only-of-type {\n",
       "        vertical-align: middle;\n",
       "    }\n",
       "\n",
       "    .dataframe tbody tr th {\n",
       "        vertical-align: top;\n",
       "    }\n",
       "\n",
       "    .dataframe thead th {\n",
       "        text-align: right;\n",
       "    }\n",
       "</style>\n",
       "<table border=\"1\" class=\"dataframe\">\n",
       "  <thead>\n",
       "    <tr style=\"text-align: right;\">\n",
       "      <th></th>\n",
       "      <th>targeted_productivity</th>\n",
       "      <th>smv</th>\n",
       "      <th>wip</th>\n",
       "      <th>over_time</th>\n",
       "      <th>incentive</th>\n",
       "      <th>no_of_workers</th>\n",
       "      <th>quarter_Quarter1</th>\n",
       "      <th>quarter_Quarter2</th>\n",
       "      <th>quarter_Quarter3</th>\n",
       "      <th>quarter_Quarter4</th>\n",
       "      <th>...</th>\n",
       "      <th>team_6</th>\n",
       "      <th>team_7</th>\n",
       "      <th>team_8</th>\n",
       "      <th>team_9</th>\n",
       "      <th>team_10</th>\n",
       "      <th>team_11</th>\n",
       "      <th>team_12</th>\n",
       "      <th>no_of_style_change_0</th>\n",
       "      <th>no_of_style_change_1</th>\n",
       "      <th>no_of_style_change_2</th>\n",
       "    </tr>\n",
       "  </thead>\n",
       "  <tbody>\n",
       "    <tr>\n",
       "      <th>0</th>\n",
       "      <td>0.849923</td>\n",
       "      <td>1.016663</td>\n",
       "      <td>0.932878</td>\n",
       "      <td>0.767795</td>\n",
       "      <td>2.333986</td>\n",
       "      <td>1.099960</td>\n",
       "      <td>1.496308</td>\n",
       "      <td>-0.606112</td>\n",
       "      <td>-0.464701</td>\n",
       "      <td>-0.569638</td>\n",
       "      <td>...</td>\n",
       "      <td>-0.291514</td>\n",
       "      <td>-0.295176</td>\n",
       "      <td>3.176619</td>\n",
       "      <td>-0.316544</td>\n",
       "      <td>-0.309529</td>\n",
       "      <td>-0.272698</td>\n",
       "      <td>-0.307759</td>\n",
       "      <td>0.358425</td>\n",
       "      <td>-0.309529</td>\n",
       "      <td>-0.164706</td>\n",
       "    </tr>\n",
       "    <tr>\n",
       "      <th>1</th>\n",
       "      <td>0.000000</td>\n",
       "      <td>-1.008510</td>\n",
       "      <td>-1.013111</td>\n",
       "      <td>-1.089172</td>\n",
       "      <td>-0.863659</td>\n",
       "      <td>-1.188306</td>\n",
       "      <td>1.496308</td>\n",
       "      <td>-0.606112</td>\n",
       "      <td>-0.464701</td>\n",
       "      <td>-0.569638</td>\n",
       "      <td>...</td>\n",
       "      <td>-0.291514</td>\n",
       "      <td>-0.295176</td>\n",
       "      <td>-0.314800</td>\n",
       "      <td>-0.316544</td>\n",
       "      <td>-0.309529</td>\n",
       "      <td>-0.272698</td>\n",
       "      <td>-0.307759</td>\n",
       "      <td>0.358425</td>\n",
       "      <td>-0.309529</td>\n",
       "      <td>-0.164706</td>\n",
       "    </tr>\n",
       "    <tr>\n",
       "      <th>2</th>\n",
       "      <td>0.849923</td>\n",
       "      <td>-0.327680</td>\n",
       "      <td>0.686995</td>\n",
       "      <td>-0.269922</td>\n",
       "      <td>0.767793</td>\n",
       "      <td>-0.156343</td>\n",
       "      <td>1.496308</td>\n",
       "      <td>-0.606112</td>\n",
       "      <td>-0.464701</td>\n",
       "      <td>-0.569638</td>\n",
       "      <td>...</td>\n",
       "      <td>-0.291514</td>\n",
       "      <td>-0.295176</td>\n",
       "      <td>-0.314800</td>\n",
       "      <td>-0.316544</td>\n",
       "      <td>-0.309529</td>\n",
       "      <td>3.667065</td>\n",
       "      <td>-0.307759</td>\n",
       "      <td>0.358425</td>\n",
       "      <td>-0.309529</td>\n",
       "      <td>-0.164706</td>\n",
       "    </tr>\n",
       "    <tr>\n",
       "      <th>3</th>\n",
       "      <td>0.849923</td>\n",
       "      <td>-0.327680</td>\n",
       "      <td>0.686995</td>\n",
       "      <td>-0.269922</td>\n",
       "      <td>0.767793</td>\n",
       "      <td>-0.156343</td>\n",
       "      <td>1.496308</td>\n",
       "      <td>-0.606112</td>\n",
       "      <td>-0.464701</td>\n",
       "      <td>-0.569638</td>\n",
       "      <td>...</td>\n",
       "      <td>-0.291514</td>\n",
       "      <td>-0.295176</td>\n",
       "      <td>-0.314800</td>\n",
       "      <td>-0.316544</td>\n",
       "      <td>-0.309529</td>\n",
       "      <td>-0.272698</td>\n",
       "      <td>3.249291</td>\n",
       "      <td>0.358425</td>\n",
       "      <td>-0.309529</td>\n",
       "      <td>-0.164706</td>\n",
       "    </tr>\n",
       "    <tr>\n",
       "      <th>4</th>\n",
       "      <td>0.849923</td>\n",
       "      <td>0.992966</td>\n",
       "      <td>1.041769</td>\n",
       "      <td>-0.797883</td>\n",
       "      <td>0.767793</td>\n",
       "      <td>0.965356</td>\n",
       "      <td>1.496308</td>\n",
       "      <td>-0.606112</td>\n",
       "      <td>-0.464701</td>\n",
       "      <td>-0.569638</td>\n",
       "      <td>...</td>\n",
       "      <td>3.430371</td>\n",
       "      <td>-0.295176</td>\n",
       "      <td>-0.314800</td>\n",
       "      <td>-0.316544</td>\n",
       "      <td>-0.309529</td>\n",
       "      <td>-0.272698</td>\n",
       "      <td>-0.307759</td>\n",
       "      <td>0.358425</td>\n",
       "      <td>-0.309529</td>\n",
       "      <td>-0.164706</td>\n",
       "    </tr>\n",
       "  </tbody>\n",
       "</table>\n",
       "<p>5 rows × 33 columns</p>\n",
       "</div>"
      ],
      "text/plain": [
       "   targeted_productivity       smv       wip  over_time  incentive  \\\n",
       "0               0.849923  1.016663  0.932878   0.767795   2.333986   \n",
       "1               0.000000 -1.008510 -1.013111  -1.089172  -0.863659   \n",
       "2               0.849923 -0.327680  0.686995  -0.269922   0.767793   \n",
       "3               0.849923 -0.327680  0.686995  -0.269922   0.767793   \n",
       "4               0.849923  0.992966  1.041769  -0.797883   0.767793   \n",
       "\n",
       "   no_of_workers  quarter_Quarter1  quarter_Quarter2  quarter_Quarter3  \\\n",
       "0       1.099960          1.496308         -0.606112         -0.464701   \n",
       "1      -1.188306          1.496308         -0.606112         -0.464701   \n",
       "2      -0.156343          1.496308         -0.606112         -0.464701   \n",
       "3      -0.156343          1.496308         -0.606112         -0.464701   \n",
       "4       0.965356          1.496308         -0.606112         -0.464701   \n",
       "\n",
       "   quarter_Quarter4  ...    team_6    team_7    team_8    team_9   team_10  \\\n",
       "0         -0.569638  ... -0.291514 -0.295176  3.176619 -0.316544 -0.309529   \n",
       "1         -0.569638  ... -0.291514 -0.295176 -0.314800 -0.316544 -0.309529   \n",
       "2         -0.569638  ... -0.291514 -0.295176 -0.314800 -0.316544 -0.309529   \n",
       "3         -0.569638  ... -0.291514 -0.295176 -0.314800 -0.316544 -0.309529   \n",
       "4         -0.569638  ...  3.430371 -0.295176 -0.314800 -0.316544 -0.309529   \n",
       "\n",
       "    team_11   team_12  no_of_style_change_0  no_of_style_change_1  \\\n",
       "0 -0.272698 -0.307759              0.358425             -0.309529   \n",
       "1 -0.272698 -0.307759              0.358425             -0.309529   \n",
       "2  3.667065 -0.307759              0.358425             -0.309529   \n",
       "3 -0.272698  3.249291              0.358425             -0.309529   \n",
       "4 -0.272698 -0.307759              0.358425             -0.309529   \n",
       "\n",
       "   no_of_style_change_2  \n",
       "0             -0.164706  \n",
       "1             -0.164706  \n",
       "2             -0.164706  \n",
       "3             -0.164706  \n",
       "4             -0.164706  \n",
       "\n",
       "[5 rows x 33 columns]"
      ]
     },
     "execution_count": 55,
     "metadata": {},
     "output_type": "execute_result"
    }
   ],
   "source": [
    "x.iloc[:,:] = scaler.fit_transform(x.iloc[:,:])\n",
    "x.head()"
   ]
  },
  {
   "cell_type": "code",
   "execution_count": 56,
   "metadata": {},
   "outputs": [],
   "source": [
    "\n",
    "x_train, x_test, y_train, y_test = train_test_split(x, y, test_size=0.20, random_state=42)"
   ]
  },
  {
   "cell_type": "code",
   "execution_count": 57,
   "metadata": {},
   "outputs": [
    {
     "name": "stdout",
     "output_type": "stream",
     "text": [
      "(878, 33)\n",
      "(220, 33)\n",
      "(878,)\n",
      "(220,)\n"
     ]
    }
   ],
   "source": [
    "print(x_train.shape)\n",
    "print(x_test.shape)\n",
    "print(y_train.shape)\n",
    "print(y_test.shape)"
   ]
  },
  {
   "cell_type": "code",
   "execution_count": 58,
   "metadata": {},
   "outputs": [],
   "source": [
    "# import scipy as sp\n",
    "# from sklearn.metrics import mean_squared_error\n",
    "# from sklearn.metrics import mean_absolute_error\n",
    "# from math import sqrt\n",
    "# from sklearn.metrics import mean_absolute_percentage_error"
   ]
  },
  {
   "cell_type": "code",
   "execution_count": 59,
   "metadata": {},
   "outputs": [],
   "source": [
    "model_1 = LinearRegression()\n",
    "model_1.fit(x_train, y_train)\n",
    "y_pred = model_1.predict(x_test)\n",
    "mse = mean_squared_error(y_test, y_pred)\n",
    "rmse = np.sqrt(mse)\n",
    "r2 = model_1.score(x_test, y_test)\n",
    "cross_validation_score  = cross_val_score(model_1, x_train, y_train, cv=5)"
   ]
  },
  {
   "cell_type": "code",
   "execution_count": 60,
   "metadata": {},
   "outputs": [
    {
     "name": "stdout",
     "output_type": "stream",
     "text": [
      "Mean Absolute Error :  0.09 degrees.\n"
     ]
    }
   ],
   "source": [
    "predictions = model_1.predict(x_train)\n",
    "errors = abs(predictions - y_train)\n",
    "print(\"Mean Absolute Error : \", round(np.mean(errors), 2), 'degrees.')"
   ]
  },
  {
   "cell_type": "code",
   "execution_count": 61,
   "metadata": {},
   "outputs": [
    {
     "name": "stdout",
     "output_type": "stream",
     "text": [
      "Accuracy: 83.85 %.\n"
     ]
    }
   ],
   "source": [
    "mape = 100 * (errors / y_train)\n",
    "\n",
    "accuracy = 100 - np.mean(mape)\n",
    "print('Accuracy:', round(accuracy, 2), '%.')"
   ]
  },
  {
   "cell_type": "code",
   "execution_count": 62,
   "metadata": {},
   "outputs": [
    {
     "name": "stdout",
     "output_type": "stream",
     "text": [
      "Mean squared error: 0.018426107959201788\n",
      "Root mean squared error: 0.135742800763804\n",
      "Coefficient of determination: 0.3021950414345199\n",
      "Cross-validation scores: [0.32872384 0.28113265 0.21189459 0.34583963 0.28290731]\n"
     ]
    }
   ],
   "source": [
    "print('Mean squared error:', mse)\n",
    "print('Root mean squared error:', rmse)\n",
    "print('Coefficient of determination:', r2)\n",
    "print('Cross-validation scores:', cross_validation_score)"
   ]
  },
  {
   "cell_type": "code",
   "execution_count": 63,
   "metadata": {},
   "outputs": [],
   "source": [
    "# plt.scatter(y_test, y_pred, label='Linear Regression')\n",
    "# plt.plot([y.min(), y.max()], [y.min(), y.max()], 'k--', lw=2)\n",
    "# plt.xlabel('Targeted_Productivity')\n",
    "# plt.ylabel('Actual_Productivity')\n",
    "# plt.title('Target vs Actual Productivity')\n",
    "# plt.show()"
   ]
  },
  {
   "cell_type": "code",
   "execution_count": 64,
   "metadata": {},
   "outputs": [],
   "source": [
    "# score = model_1.score(x_test, y_test)\n",
    "# print(\"Model Score\", score)"
   ]
  },
  {
   "attachments": {},
   "cell_type": "markdown",
   "metadata": {},
   "source": [
    "Random Forest"
   ]
  },
  {
   "cell_type": "code",
   "execution_count": 65,
   "metadata": {},
   "outputs": [
    {
     "data": {
      "text/plain": [
       "RandomForestRegressor(n_estimators=1000, random_state=42)"
      ]
     },
     "execution_count": 65,
     "metadata": {},
     "output_type": "execute_result"
    }
   ],
   "source": [
    "rf = RandomForestRegressor(n_estimators=1000, random_state=42)\n",
    "rf.fit(x_train, y_train)"
   ]
  },
  {
   "cell_type": "code",
   "execution_count": 66,
   "metadata": {},
   "outputs": [
    {
     "name": "stdout",
     "output_type": "stream",
     "text": [
      "Mean Absolute Error: 0.03 degrees.\n"
     ]
    }
   ],
   "source": [
    "predictions = rf.predict(x_train)\n",
    "errors = abs(predictions - y_train)\n",
    "print('Mean Absolute Error:', round(np.mean(errors), 2), 'degrees.')"
   ]
  },
  {
   "cell_type": "code",
   "execution_count": 67,
   "metadata": {},
   "outputs": [
    {
     "name": "stdout",
     "output_type": "stream",
     "text": [
      "Accuracy: 95.26 %.\n"
     ]
    }
   ],
   "source": [
    "mape = 100 * (errors / y_train)\n",
    "\n",
    "accuracy = 100 - np.mean(mape)\n",
    "print('Accuracy:', round(accuracy, 2), '%.')"
   ]
  },
  {
   "cell_type": "code",
   "execution_count": 68,
   "metadata": {},
   "outputs": [
    {
     "name": "stdout",
     "output_type": "stream",
     "text": [
      "Mean squared error: 0.018426107959201788\n",
      "Root mean squared error: 0.135742800763804\n",
      "Coefficient of determination: 0.3021950414345199\n"
     ]
    }
   ],
   "source": [
    "print('Mean squared error:', mse)\n",
    "print('Root mean squared error:', rmse)\n",
    "print('Coefficient of determination:', r2)"
   ]
  },
  {
   "attachments": {},
   "cell_type": "markdown",
   "metadata": {},
   "source": [
    "Ridge"
   ]
  },
  {
   "cell_type": "code",
   "execution_count": 69,
   "metadata": {},
   "outputs": [
    {
     "data": {
      "text/plain": [
       "RidgeCV(alphas=array([ 0.1,  1. , 10. ]), cv=5)"
      ]
     },
     "execution_count": 69,
     "metadata": {},
     "output_type": "execute_result"
    }
   ],
   "source": [
    "alphas = [0.1, 1, 10]\n",
    "model_ridge = RidgeCV(alphas=alphas, cv=5)\n",
    "model_ridge.fit(x_train, y_train)\n"
   ]
  },
  {
   "cell_type": "code",
   "execution_count": 70,
   "metadata": {},
   "outputs": [
    {
     "name": "stdout",
     "output_type": "stream",
     "text": [
      "Mean Absolute Error :  0.09 degrees.\n"
     ]
    }
   ],
   "source": [
    "predictions = model_ridge.predict(x_train)\n",
    "errors = abs(predictions - y_train)\n",
    "print(\"Mean Absolute Error : \", round(np.mean(errors), 2), 'degrees.')"
   ]
  },
  {
   "cell_type": "code",
   "execution_count": 71,
   "metadata": {},
   "outputs": [
    {
     "name": "stdout",
     "output_type": "stream",
     "text": [
      "Accuracy: 95.26 %.\n"
     ]
    }
   ],
   "source": [
    "maps = 100 * (errors / y_train)\n",
    "accuracy = 100 - np.mean(mape)\n",
    "print('Accuracy:', round(accuracy, 2), '%.')"
   ]
  },
  {
   "cell_type": "code",
   "execution_count": 73,
   "metadata": {},
   "outputs": [
    {
     "ename": "SyntaxError",
     "evalue": "invalid syntax (1436274822.py, line 1)",
     "output_type": "error",
     "traceback": [
      "\u001b[1;36m  Input \u001b[1;32mIn [73]\u001b[1;36m\u001b[0m\n\u001b[1;33m    jupyter nbconvert --to HTML garments.ipynb\u001b[0m\n\u001b[1;37m            ^\u001b[0m\n\u001b[1;31mSyntaxError\u001b[0m\u001b[1;31m:\u001b[0m invalid syntax\n"
     ]
    }
   ],
   "source": [
    "jupyter nbconvert --to HTML garments.ipynb"
   ]
  }
 ],
 "metadata": {
  "kernelspec": {
   "display_name": "Python 3",
   "language": "python",
   "name": "python3"
  },
  "language_info": {
   "codemirror_mode": {
    "name": "ipython",
    "version": 3
   },
   "file_extension": ".py",
   "mimetype": "text/x-python",
   "name": "python",
   "nbconvert_exporter": "python",
   "pygments_lexer": "ipython3",
   "version": "3.10.2"
  },
  "orig_nbformat": 4,
  "vscode": {
   "interpreter": {
    "hash": "369f2c481f4da34e4445cda3fffd2e751bd1c4d706f27375911949ba6bb62e1c"
   }
  }
 },
 "nbformat": 4,
 "nbformat_minor": 2
}
